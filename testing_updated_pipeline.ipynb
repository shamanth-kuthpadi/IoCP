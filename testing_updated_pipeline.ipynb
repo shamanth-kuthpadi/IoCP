{
 "cells": [
  {
   "cell_type": "code",
   "execution_count": 1,
   "id": "7a2629f5",
   "metadata": {},
   "outputs": [
    {
     "name": "stderr",
     "output_type": "stream",
     "text": [
      "/opt/anaconda3/envs/iocp/lib/python3.11/site-packages/tqdm/auto.py:21: TqdmWarning: IProgress not found. Please update jupyter and ipywidgets. See https://ipywidgets.readthedocs.io/en/stable/user_install.html\n",
      "  from .autonotebook import tqdm as notebook_tqdm\n"
     ]
    }
   ],
   "source": [
    "from CausalModule import CausalModule\n",
    "# from run_effect_estimation import run_effect_estimation\n",
    "import pandas as pd\n",
    "\n",
    "import warnings\n",
    "warnings.filterwarnings(\"ignore\", category=FutureWarning)"
   ]
  },
  {
   "cell_type": "code",
   "execution_count": 2,
   "id": "fa1a5829",
   "metadata": {},
   "outputs": [
    {
     "name": "stdout",
     "output_type": "stream",
     "text": [
      "    Z0        Z1        W0        W1        W2        W3        W4  v0  y\n",
      "0  1.0  0.966938  1.532031  0.543733  1.079179 -1.034353 -0.368060   1  1\n",
      "1  1.0  0.119280  0.256962  1.801282  2.142508  2.620849  0.200663   1  1\n",
      "2  1.0  0.280015 -1.252065  0.871042  0.524455  0.943614  0.662023   1  1\n",
      "3  0.0  0.861523  1.200008 -0.170130  0.254080  0.656970 -1.001795   1  1\n",
      "4  1.0  0.610254  1.507466 -0.900992  1.399883 -1.225999 -1.918498   1  1\n",
      "['v0']\n",
      "y\n"
     ]
    }
   ],
   "source": [
    "# data_url = \"https://raw.githubusercontent.com/FenTechSolutions/CausalDiscoveryToolbox/master/cdt/data/resources/cyto_full_data.csv\"\n",
    "# data = pd.read_csv(data_url) \n",
    "import dowhy.datasets\n",
    "dataset = dowhy.datasets.linear_dataset(beta=10,\n",
    "        num_common_causes=5,\n",
    "        num_instruments = 2,\n",
    "        num_treatments=1,\n",
    "        num_samples=10000,\n",
    "        treatment_is_binary=True,\n",
    "        outcome_is_binary=True,\n",
    "        stddev_treatment_noise=10)\n",
    "data = dataset['df']\n",
    "data['v0'] = data['v0'].astype(int)\n",
    "data['y'] = data['y'].astype(int)\n",
    "print(data.head())\n",
    "print(dataset['treatment_name'])\n",
    "print(dataset['outcome_name'])\n",
    "discovery_algorithm = \"pc-nl\" \n",
    "treatment_variable = dataset['treatment_name'][0]\n",
    "outcome_variable = dataset['outcome_name'][0]\n",
    "\n",
    "treatment_value = 1\n",
    "control_value = 0"
   ]
  },
  {
   "cell_type": "code",
   "execution_count": 3,
   "id": "183f4576",
   "metadata": {},
   "outputs": [
    {
     "name": "stdout",
     "output_type": "stream",
     "text": [
      "v0\n"
     ]
    }
   ],
   "source": [
    "print(treatment_variable)"
   ]
  },
  {
   "cell_type": "code",
   "execution_count": 4,
   "id": "69757936",
   "metadata": {},
   "outputs": [
    {
     "name": "stderr",
     "output_type": "stream",
     "text": [
      "2025-09-03 05:47:17,816 INFO: CausalModule initialized with provided parameters.\n",
      "2025-09-03 05:47:17,817 INFO: Finding causal graph using pc-nl algorithm\n",
      "Depth=1, working on node 0:  11%|█         | 1/9 [00:00<00:00, 4899.89it/s]"
     ]
    },
    {
     "ename": "KeyboardInterrupt",
     "evalue": "",
     "output_type": "error",
     "traceback": [
      "\u001b[31m---------------------------------------------------------------------------\u001b[39m",
      "\u001b[31mKeyboardInterrupt\u001b[39m                         Traceback (most recent call last)",
      "\u001b[36mCell\u001b[39m\u001b[36m \u001b[39m\u001b[32mIn[4]\u001b[39m\u001b[32m, line 9\u001b[39m\n\u001b[32m      2\u001b[39m causal_module = CausalModule(\n\u001b[32m      3\u001b[39m     data=data,\n\u001b[32m      4\u001b[39m     treatment_variable=treatment_variable,\n\u001b[32m      5\u001b[39m     outcome_variable=outcome_variable,\n\u001b[32m      6\u001b[39m )\n\u001b[32m      8\u001b[39m \u001b[38;5;66;03m# Find the causal graph\u001b[39;00m\n\u001b[32m----> \u001b[39m\u001b[32m9\u001b[39m \u001b[43mcausal_module\u001b[49m\u001b[43m.\u001b[49m\u001b[43mfind_causal_graph\u001b[49m\u001b[43m(\u001b[49m\u001b[43malgo\u001b[49m\u001b[43m=\u001b[49m\u001b[43mdiscovery_algorithm\u001b[49m\u001b[43m)\u001b[49m\n\u001b[32m     10\u001b[39m \u001b[38;5;28mprint\u001b[39m(causal_module.graph.nodes())\n\u001b[32m     11\u001b[39m \u001b[38;5;66;03m# Refute the causal graph\u001b[39;00m\n\u001b[32m     12\u001b[39m \u001b[38;5;66;03m# causal_module.refute_cgm(n_perm=10)\u001b[39;00m\n",
      "\u001b[36mFile \u001b[39m\u001b[32m~/Documents/IoCP/CausalModule.py:170\u001b[39m, in \u001b[36mCausalModule.find_causal_graph\u001b[39m\u001b[34m(self, algo, pk)\u001b[39m\n\u001b[32m    168\u001b[39m     \u001b[38;5;28mself\u001b[39m.graph = predicted_graph\n\u001b[32m    169\u001b[39m \u001b[38;5;28;01mcase\u001b[39;00m \u001b[33m'\u001b[39m\u001b[33mpc-nl\u001b[39m\u001b[33m'\u001b[39m:\n\u001b[32m--> \u001b[39m\u001b[32m170\u001b[39m     cg = \u001b[43mpc\u001b[49m\u001b[43m(\u001b[49m\u001b[43mdata\u001b[49m\u001b[43m=\u001b[49m\u001b[43mdf\u001b[49m\u001b[43m,\u001b[49m\u001b[43m \u001b[49m\u001b[43mshow_progress\u001b[49m\u001b[43m=\u001b[49m\u001b[38;5;28;43;01mTrue\u001b[39;49;00m\u001b[43m,\u001b[49m\u001b[43m \u001b[49m\u001b[43mnode_names\u001b[49m\u001b[43m=\u001b[49m\u001b[43mlabels\u001b[49m\u001b[43m,\u001b[49m\u001b[43m \u001b[49m\u001b[43mverbose\u001b[49m\u001b[43m=\u001b[49m\u001b[38;5;28;43;01mFalse\u001b[39;49;00m\u001b[43m,\u001b[49m\u001b[43m \u001b[49m\u001b[43mindep_test\u001b[49m\u001b[43m=\u001b[49m\u001b[33;43m'\u001b[39;49m\u001b[33;43mkci\u001b[39;49m\u001b[33;43m'\u001b[39;49m\u001b[43m)\u001b[49m\n\u001b[32m    171\u001b[39m     cg = pdag2dag(cg.G)\n\u001b[32m    172\u001b[39m     predicted_graph = genG_to_nx(cg, labels)\n",
      "\u001b[36mFile \u001b[39m\u001b[32m/opt/anaconda3/envs/iocp/lib/python3.11/site-packages/causallearn/search/ConstraintBased/PC.py:46\u001b[39m, in \u001b[36mpc\u001b[39m\u001b[34m(data, alpha, indep_test, stable, uc_rule, uc_priority, mvpc, correction_name, background_knowledge, verbose, show_progress, node_names, **kwargs)\u001b[39m\n\u001b[32m     41\u001b[39m     \u001b[38;5;28;01mreturn\u001b[39;00m mvpc_alg(data=data, node_names=node_names, alpha=alpha, indep_test=indep_test, correction_name=correction_name, stable=stable,\n\u001b[32m     42\u001b[39m                     uc_rule=uc_rule, uc_priority=uc_priority, background_knowledge=background_knowledge,\n\u001b[32m     43\u001b[39m                     verbose=verbose,\n\u001b[32m     44\u001b[39m                     show_progress=show_progress, **kwargs)\n\u001b[32m     45\u001b[39m \u001b[38;5;28;01melse\u001b[39;00m:\n\u001b[32m---> \u001b[39m\u001b[32m46\u001b[39m     \u001b[38;5;28;01mreturn\u001b[39;00m \u001b[43mpc_alg\u001b[49m\u001b[43m(\u001b[49m\u001b[43mdata\u001b[49m\u001b[43m=\u001b[49m\u001b[43mdata\u001b[49m\u001b[43m,\u001b[49m\u001b[43m \u001b[49m\u001b[43mnode_names\u001b[49m\u001b[43m=\u001b[49m\u001b[43mnode_names\u001b[49m\u001b[43m,\u001b[49m\u001b[43m \u001b[49m\u001b[43malpha\u001b[49m\u001b[43m=\u001b[49m\u001b[43malpha\u001b[49m\u001b[43m,\u001b[49m\u001b[43m \u001b[49m\u001b[43mindep_test\u001b[49m\u001b[43m=\u001b[49m\u001b[43mindep_test\u001b[49m\u001b[43m,\u001b[49m\u001b[43m \u001b[49m\u001b[43mstable\u001b[49m\u001b[43m=\u001b[49m\u001b[43mstable\u001b[49m\u001b[43m,\u001b[49m\u001b[43m \u001b[49m\u001b[43muc_rule\u001b[49m\u001b[43m=\u001b[49m\u001b[43muc_rule\u001b[49m\u001b[43m,\u001b[49m\n\u001b[32m     47\u001b[39m \u001b[43m                  \u001b[49m\u001b[43muc_priority\u001b[49m\u001b[43m=\u001b[49m\u001b[43muc_priority\u001b[49m\u001b[43m,\u001b[49m\u001b[43m \u001b[49m\u001b[43mbackground_knowledge\u001b[49m\u001b[43m=\u001b[49m\u001b[43mbackground_knowledge\u001b[49m\u001b[43m,\u001b[49m\u001b[43m \u001b[49m\u001b[43mverbose\u001b[49m\u001b[43m=\u001b[49m\u001b[43mverbose\u001b[49m\u001b[43m,\u001b[49m\n\u001b[32m     48\u001b[39m \u001b[43m                  \u001b[49m\u001b[43mshow_progress\u001b[49m\u001b[43m=\u001b[49m\u001b[43mshow_progress\u001b[49m\u001b[43m,\u001b[49m\u001b[43m \u001b[49m\u001b[43m*\u001b[49m\u001b[43m*\u001b[49m\u001b[43mkwargs\u001b[49m\u001b[43m)\u001b[49m\n",
      "\u001b[36mFile \u001b[39m\u001b[32m/opt/anaconda3/envs/iocp/lib/python3.11/site-packages/causallearn/search/ConstraintBased/PC.py:104\u001b[39m, in \u001b[36mpc_alg\u001b[39m\u001b[34m(data, node_names, alpha, indep_test, stable, uc_rule, uc_priority, background_knowledge, verbose, show_progress, **kwargs)\u001b[39m\n\u001b[32m    102\u001b[39m start = time.time()\n\u001b[32m    103\u001b[39m indep_test = CIT(data, indep_test, **kwargs)\n\u001b[32m--> \u001b[39m\u001b[32m104\u001b[39m cg_1 = \u001b[43mSkeletonDiscovery\u001b[49m\u001b[43m.\u001b[49m\u001b[43mskeleton_discovery\u001b[49m\u001b[43m(\u001b[49m\u001b[43mdata\u001b[49m\u001b[43m,\u001b[49m\u001b[43m \u001b[49m\u001b[43malpha\u001b[49m\u001b[43m,\u001b[49m\u001b[43m \u001b[49m\u001b[43mindep_test\u001b[49m\u001b[43m,\u001b[49m\u001b[43m \u001b[49m\u001b[43mstable\u001b[49m\u001b[43m,\u001b[49m\n\u001b[32m    105\u001b[39m \u001b[43m                                            \u001b[49m\u001b[43mbackground_knowledge\u001b[49m\u001b[43m=\u001b[49m\u001b[43mbackground_knowledge\u001b[49m\u001b[43m,\u001b[49m\u001b[43m \u001b[49m\u001b[43mverbose\u001b[49m\u001b[43m=\u001b[49m\u001b[43mverbose\u001b[49m\u001b[43m,\u001b[49m\n\u001b[32m    106\u001b[39m \u001b[43m                                            \u001b[49m\u001b[43mshow_progress\u001b[49m\u001b[43m=\u001b[49m\u001b[43mshow_progress\u001b[49m\u001b[43m,\u001b[49m\u001b[43m \u001b[49m\u001b[43mnode_names\u001b[49m\u001b[43m=\u001b[49m\u001b[43mnode_names\u001b[49m\u001b[43m)\u001b[49m\n\u001b[32m    108\u001b[39m \u001b[38;5;28;01mif\u001b[39;00m background_knowledge \u001b[38;5;129;01mis\u001b[39;00m \u001b[38;5;129;01mnot\u001b[39;00m \u001b[38;5;28;01mNone\u001b[39;00m:\n\u001b[32m    109\u001b[39m     orient_by_background_knowledge(cg_1, background_knowledge)\n",
      "\u001b[36mFile \u001b[39m\u001b[32m/opt/anaconda3/envs/iocp/lib/python3.11/site-packages/causallearn/utils/PCUtils/SkeletonDiscovery.py:101\u001b[39m, in \u001b[36mskeleton_discovery\u001b[39m\u001b[34m(data, alpha, indep_test, stable, background_knowledge, verbose, show_progress, node_names)\u001b[39m\n\u001b[32m     99\u001b[39m Neigh_x_noy = np.delete(Neigh_x, np.where(Neigh_x == y))\n\u001b[32m    100\u001b[39m \u001b[38;5;28;01mfor\u001b[39;00m S \u001b[38;5;129;01min\u001b[39;00m combinations(Neigh_x_noy, depth):\n\u001b[32m--> \u001b[39m\u001b[32m101\u001b[39m     p = \u001b[43mcg\u001b[49m\u001b[43m.\u001b[49m\u001b[43mci_test\u001b[49m\u001b[43m(\u001b[49m\u001b[43mx\u001b[49m\u001b[43m,\u001b[49m\u001b[43m \u001b[49m\u001b[43my\u001b[49m\u001b[43m,\u001b[49m\u001b[43m \u001b[49m\u001b[43mS\u001b[49m\u001b[43m)\u001b[49m\n\u001b[32m    102\u001b[39m     \u001b[38;5;28;01mif\u001b[39;00m p > alpha:\n\u001b[32m    103\u001b[39m         \u001b[38;5;28;01mif\u001b[39;00m verbose:\n",
      "\u001b[36mFile \u001b[39m\u001b[32m/opt/anaconda3/envs/iocp/lib/python3.11/site-packages/causallearn/graph/GraphClass.py:58\u001b[39m, in \u001b[36mCausalGraph.ci_test\u001b[39m\u001b[34m(self, i, j, S)\u001b[39m\n\u001b[32m     56\u001b[39m \u001b[38;5;66;03m# assert i != j and not i in S and not j in S\u001b[39;00m\n\u001b[32m     57\u001b[39m \u001b[38;5;28;01mif\u001b[39;00m \u001b[38;5;28mself\u001b[39m.test.method == \u001b[33m'\u001b[39m\u001b[33mmc_fisherz\u001b[39m\u001b[33m'\u001b[39m: \u001b[38;5;28;01mreturn\u001b[39;00m \u001b[38;5;28mself\u001b[39m.test(i, j, S, \u001b[38;5;28mself\u001b[39m.nx_skel, \u001b[38;5;28mself\u001b[39m.prt_m)\n\u001b[32m---> \u001b[39m\u001b[32m58\u001b[39m \u001b[38;5;28;01mreturn\u001b[39;00m \u001b[38;5;28;43mself\u001b[39;49m\u001b[43m.\u001b[49m\u001b[43mtest\u001b[49m\u001b[43m(\u001b[49m\u001b[43mi\u001b[49m\u001b[43m,\u001b[49m\u001b[43m \u001b[49m\u001b[43mj\u001b[49m\u001b[43m,\u001b[49m\u001b[43m \u001b[49m\u001b[43mS\u001b[49m\u001b[43m)\u001b[49m\n",
      "\u001b[36mFile \u001b[39m\u001b[32m/opt/anaconda3/envs/iocp/lib/python3.11/site-packages/causallearn/utils/cit.py:246\u001b[39m, in \u001b[36mKCI.__call__\u001b[39m\u001b[34m(self, X, Y, condition_set)\u001b[39m\n\u001b[32m    243\u001b[39m Xs, Ys, condition_set, cache_key = \u001b[38;5;28mself\u001b[39m.get_formatted_XYZ_and_cachekey(X, Y, condition_set)\n\u001b[32m    244\u001b[39m \u001b[38;5;28;01mif\u001b[39;00m cache_key \u001b[38;5;129;01min\u001b[39;00m \u001b[38;5;28mself\u001b[39m.pvalue_cache: \u001b[38;5;28;01mreturn\u001b[39;00m \u001b[38;5;28mself\u001b[39m.pvalue_cache[cache_key]\n\u001b[32m    245\u001b[39m p = \u001b[38;5;28mself\u001b[39m.kci_ui.compute_pvalue(\u001b[38;5;28mself\u001b[39m.data[:, Xs], \u001b[38;5;28mself\u001b[39m.data[:, Ys])[\u001b[32m0\u001b[39m] \u001b[38;5;28;01mif\u001b[39;00m \u001b[38;5;28mlen\u001b[39m(condition_set) == \u001b[32m0\u001b[39m \u001b[38;5;28;01melse\u001b[39;00m \\\n\u001b[32m--> \u001b[39m\u001b[32m246\u001b[39m     \u001b[38;5;28;43mself\u001b[39;49m\u001b[43m.\u001b[49m\u001b[43mkci_ci\u001b[49m\u001b[43m.\u001b[49m\u001b[43mcompute_pvalue\u001b[49m\u001b[43m(\u001b[49m\u001b[38;5;28;43mself\u001b[39;49m\u001b[43m.\u001b[49m\u001b[43mdata\u001b[49m\u001b[43m[\u001b[49m\u001b[43m:\u001b[49m\u001b[43m,\u001b[49m\u001b[43m \u001b[49m\u001b[43mXs\u001b[49m\u001b[43m]\u001b[49m\u001b[43m,\u001b[49m\u001b[43m \u001b[49m\u001b[38;5;28;43mself\u001b[39;49m\u001b[43m.\u001b[49m\u001b[43mdata\u001b[49m\u001b[43m[\u001b[49m\u001b[43m:\u001b[49m\u001b[43m,\u001b[49m\u001b[43m \u001b[49m\u001b[43mYs\u001b[49m\u001b[43m]\u001b[49m\u001b[43m,\u001b[49m\u001b[43m \u001b[49m\u001b[38;5;28;43mself\u001b[39;49m\u001b[43m.\u001b[49m\u001b[43mdata\u001b[49m\u001b[43m[\u001b[49m\u001b[43m:\u001b[49m\u001b[43m,\u001b[49m\u001b[43m \u001b[49m\u001b[43mcondition_set\u001b[49m\u001b[43m]\u001b[49m\u001b[43m)\u001b[49m[\u001b[32m0\u001b[39m]\n\u001b[32m    247\u001b[39m \u001b[38;5;28mself\u001b[39m.pvalue_cache[cache_key] = p\n\u001b[32m    248\u001b[39m \u001b[38;5;28;01mreturn\u001b[39;00m p\n",
      "\u001b[36mFile \u001b[39m\u001b[32m/opt/anaconda3/envs/iocp/lib/python3.11/site-packages/causallearn/utils/KCI/KCI.py:303\u001b[39m, in \u001b[36mKCI_CInd.compute_pvalue\u001b[39m\u001b[34m(self, data_x, data_y, data_z)\u001b[39m\n\u001b[32m    289\u001b[39m \u001b[38;5;250m\u001b[39m\u001b[33;03m\"\"\"\u001b[39;00m\n\u001b[32m    290\u001b[39m \u001b[33;03mMain function: compute the p value and return it together with the test statistic\u001b[39;00m\n\u001b[32m    291\u001b[39m \u001b[33;03mParameters\u001b[39;00m\n\u001b[32m   (...)\u001b[39m\u001b[32m    300\u001b[39m \u001b[33;03mtest_stat: test statistic\u001b[39;00m\n\u001b[32m    301\u001b[39m \u001b[33;03m\"\"\"\u001b[39;00m\n\u001b[32m    302\u001b[39m Kx, Ky, Kzx, Kzy = \u001b[38;5;28mself\u001b[39m.kernel_matrix(data_x, data_y, data_z)\n\u001b[32m--> \u001b[39m\u001b[32m303\u001b[39m test_stat, KxR, KyR = \u001b[38;5;28;43mself\u001b[39;49m\u001b[43m.\u001b[49m\u001b[43mKCI_V_statistic\u001b[49m\u001b[43m(\u001b[49m\u001b[43mKx\u001b[49m\u001b[43m,\u001b[49m\u001b[43m \u001b[49m\u001b[43mKy\u001b[49m\u001b[43m,\u001b[49m\u001b[43m \u001b[49m\u001b[43mKzx\u001b[49m\u001b[43m,\u001b[49m\u001b[43m \u001b[49m\u001b[43mKzy\u001b[49m\u001b[43m)\u001b[49m\n\u001b[32m    304\u001b[39m uu_prod, size_u = \u001b[38;5;28mself\u001b[39m.get_uuprod(KxR, KyR)\n\u001b[32m    305\u001b[39m \u001b[38;5;28;01mif\u001b[39;00m \u001b[38;5;28mself\u001b[39m.approx:\n",
      "\u001b[36mFile \u001b[39m\u001b[32m/opt/anaconda3/envs/iocp/lib/python3.11/site-packages/causallearn/utils/KCI/KCI.py:507\u001b[39m, in \u001b[36mKCI_CInd.KCI_V_statistic\u001b[39m\u001b[34m(self, Kx, Ky, Kzx, Kzy)\u001b[39m\n\u001b[32m    504\u001b[39m     KyR, _ = Kernel.center_kernel_matrix_regression(Ky, Kzy, \u001b[38;5;28mself\u001b[39m.epsilon_y)\n\u001b[32m    505\u001b[39m \u001b[38;5;28;01melse\u001b[39;00m:\n\u001b[32m    506\u001b[39m     \u001b[38;5;66;03m# assert np.all(Kzx == Kzy), 'Kzx and Kzy are the same'\u001b[39;00m\n\u001b[32m--> \u001b[39m\u001b[32m507\u001b[39m     KyR = Rzx.dot(\u001b[43mKy\u001b[49m\u001b[43m.\u001b[49m\u001b[43mdot\u001b[49m\u001b[43m(\u001b[49m\u001b[43mRzx\u001b[49m\u001b[43m)\u001b[49m)\n\u001b[32m    508\u001b[39m Vstat = np.sum(KxR * KyR)\n\u001b[32m    509\u001b[39m \u001b[38;5;28;01mreturn\u001b[39;00m Vstat, KxR, KyR\n",
      "\u001b[31mKeyboardInterrupt\u001b[39m: "
     ]
    }
   ],
   "source": [
    "# Initialize the CausalModule with the provided parameters\n",
    "causal_module = CausalModule(\n",
    "    data=data,\n",
    "    treatment_variable=treatment_variable,\n",
    "    outcome_variable=outcome_variable,\n",
    ")\n",
    "\n",
    "# Find the causal graph\n",
    "causal_module.find_causal_graph(algo=discovery_algorithm)\n",
    "print(causal_module.graph.nodes())\n",
    "# Refute the causal graph\n",
    "# causal_module.refute_cgm(n_perm=10)\n",
    "causal_module.see_graph()\n",
    "\n",
    "# Create a causal graph model\n",
    "causal_module.create_model()\n",
    "# Identify the estimand\n",
    "causal_module.identify_effect(method_name='default')\n",
    "# Estimate the effect\n",
    "causal_module.estimate_effect(ctrl_val=control_value, trtm_val=treatment_value)\n",
    "# Refute the estimate\n",
    "# causal_module.refute_estimate()\n",
    "\n",
    "# Save results to CSV (default directory is 'outputs/results')\n",
    "causal_module.store_results()"
   ]
  },
  {
   "cell_type": "code",
   "execution_count": null,
   "id": "2708e52e",
   "metadata": {},
   "outputs": [
    {
     "data": {
      "text/plain": [
       "dict_keys(['graph_properties', 'node_quality_score', 'graph_quality_score', 'graph_quality_summary', 'effect_estimate'])"
      ]
     },
     "execution_count": 11,
     "metadata": {},
     "output_type": "execute_result"
    }
   ],
   "source": [
    "causal_module.results.keys()"
   ]
  },
  {
   "cell_type": "code",
   "execution_count": null,
   "id": "da5f88fd",
   "metadata": {},
   "outputs": [
    {
     "data": {
      "text/plain": [
       "{'Effect Estimate': np.float64(0.5150567553712408),\n",
       " 'Realized Estimand Expression': 'b: y~v0+W3+W1+v0*W2+v0*W4+v0*W0',\n",
       " 'Treatment Value': 1,\n",
       " 'Control Value': 0}"
      ]
     },
     "execution_count": 12,
     "metadata": {},
     "output_type": "execute_result"
    }
   ],
   "source": [
    "causal_module.results['effect_estimate']"
   ]
  },
  {
   "cell_type": "code",
   "execution_count": null,
   "id": "0f7832e9",
   "metadata": {},
   "outputs": [],
   "source": []
  }
 ],
 "metadata": {
  "kernelspec": {
   "display_name": "iocp",
   "language": "python",
   "name": "python3"
  },
  "language_info": {
   "codemirror_mode": {
    "name": "ipython",
    "version": 3
   },
   "file_extension": ".py",
   "mimetype": "text/x-python",
   "name": "python",
   "nbconvert_exporter": "python",
   "pygments_lexer": "ipython3",
   "version": "3.11.13"
  }
 },
 "nbformat": 4,
 "nbformat_minor": 5
}
