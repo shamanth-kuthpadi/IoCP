{
 "cells": [
  {
   "cell_type": "markdown",
   "id": "c9f79c64",
   "metadata": {},
   "source": [
    "\n",
    "WHAT: This notebook runs effect estimation using the CausalModule from CausalModule.py. It is meant to serve as a reference.\n",
    "\n",
    "WHY: A straightforward script that compiles all the necessary steps to run effect estimation.\n",
    "\n",
    "ASSUMES: Nothing; the entire pipeline is compiled for reference\n",
    "\n",
    "FUTURE IMPROVEMENTS: Allowing for command line arguments to specify the necessary parameters\n",
    "\n",
    "VARIABLES:\n",
    "- data: Pandas DataFrame containing the dataset.\n",
    "\n",
    "- discovery_algorithm: Causal discovery algorithm to discover the causal graph.\n",
    "\n",
    "- treatment_variable: The variable to be treated.\n",
    "\n",
    "- outcome_variable: The outcome variable to be measured.\n",
    "\n",
    "- treatment_value: The value of the treatment variable for the treatment group.\n",
    "\n",
    "- control_value: The value of the treatment variable for the control group.\n",
    "\n",
    "WHO: S.K.S 2025/08/19"
   ]
  },
  {
   "cell_type": "markdown",
   "id": "345ea5d5",
   "metadata": {},
   "source": [
    "## Preliminaries"
   ]
  },
  {
   "cell_type": "markdown",
   "id": "8d3b9465",
   "metadata": {},
   "source": [
    "I would suggest that you first suppress warnings as it alleviates some really annoying and persistent library update messages."
   ]
  },
  {
   "cell_type": "code",
   "execution_count": 1,
   "id": "bbfb5b6e",
   "metadata": {},
   "outputs": [],
   "source": [
    "import warnings\n",
    "warnings.filterwarnings(\"ignore\", category=FutureWarning)"
   ]
  },
  {
   "cell_type": "markdown",
   "id": "db3ec5cd",
   "metadata": {},
   "source": [
    "## Data Preparation"
   ]
  },
  {
   "cell_type": "markdown",
   "id": "4bb11fcd",
   "metadata": {},
   "source": [
    "Next, for the data preparation -- I am using a synthetic dataset directly from DoWhy but you should change as needed.\n",
    "\n",
    "Please do note the data types of the columns and also the general format.\n",
    "\n",
    "* It is pretty important that there are no missing values\n",
    "* Also, just as important, that all data is numeric\n",
    "* Ensure that the column data types are correct; in the scenario where a variable is discrete ensure that the dtype is [int]"
   ]
  },
  {
   "cell_type": "code",
   "execution_count": 2,
   "id": "2b6b8846",
   "metadata": {},
   "outputs": [
    {
     "name": "stderr",
     "output_type": "stream",
     "text": [
      "/opt/anaconda3/envs/iocp/lib/python3.11/site-packages/tqdm/auto.py:21: TqdmWarning: IProgress not found. Please update jupyter and ipywidgets. See https://ipywidgets.readthedocs.io/en/stable/user_install.html\n",
      "  from .autonotebook import tqdm as notebook_tqdm\n"
     ]
    },
    {
     "name": "stdout",
     "output_type": "stream",
     "text": [
      "setting the treatment and outcome variable dtypes to be of type integer...\n",
      "====================================================================\n",
      "data dtypes:\n",
      " Z0    float64\n",
      "Z1    float64\n",
      "W0    float64\n",
      "W1    float64\n",
      "W2    float64\n",
      "W3    float64\n",
      "W4    float64\n",
      "v0      int64\n",
      "y       int64\n",
      "dtype: object\n",
      "====================================================================\n",
      "data preview...\n",
      "    Z0        Z1        W0        W1        W2        W3        W4  v0  y\n",
      "0  0.0  0.744181 -0.978462  0.695354  0.808075  0.345512  2.135094   1  1\n",
      "1  0.0  0.044442 -0.914150 -0.293767  0.526123  1.501304 -0.021218   0  1\n",
      "2  0.0  0.234661  0.773234 -0.269556 -0.290135  0.710612 -0.463679   0  0\n",
      "3  0.0  0.984151 -1.687205  0.829002  0.690670  1.967674 -1.036918   1  1\n",
      "4  0.0  0.035240  0.120505 -0.435666 -0.430934  0.994293 -1.632256   0  0\n",
      "\n",
      "treatment variable: ['v0']\n",
      "outcome variable: y\n",
      "====================================================================\n"
     ]
    }
   ],
   "source": [
    "import dowhy.datasets\n",
    "dataset = dowhy.datasets.linear_dataset(beta=10,\n",
    "        num_common_causes=5,\n",
    "        num_instruments = 2,\n",
    "        num_treatments=1,\n",
    "        num_samples=10000,\n",
    "        treatment_is_binary=True,\n",
    "        outcome_is_binary=True,\n",
    "        stddev_treatment_noise=10)\n",
    "data = dataset['df']\n",
    "\n",
    "print(\"setting the treatment and outcome variable dtypes to be of type integer...\")\n",
    "data['v0'] = data['v0'].astype(int) \n",
    "data['y'] = data['y'].astype(int)\n",
    "\n",
    "print(\"====================================================================\")\n",
    "\n",
    "print(f\"data dtypes:\\n {data.dtypes}\")\n",
    "\n",
    "print(\"====================================================================\")\n",
    "\n",
    "print(\"data preview...\")\n",
    "print(data.head())\n",
    "print()\n",
    "print(f\"treatment variable: {dataset['treatment_name']}\")\n",
    "print(f\"outcome variable: {dataset['outcome_name']}\")\n",
    "print(\"====================================================================\")\n",
    "discovery_algorithm = \"pc\" \n",
    "treatment_variable = dataset['treatment_name'][0]\n",
    "outcome_variable = dataset['outcome_name'][0]\n",
    "treatment_value = 1\n",
    "control_value = 0"
   ]
  },
  {
   "cell_type": "markdown",
   "id": "b15407b7",
   "metadata": {},
   "source": [
    "## Causal Pipeline for Classification"
   ]
  },
  {
   "cell_type": "markdown",
   "id": "4f355e41",
   "metadata": {},
   "source": [
    "Remember that the current state of the module [08/19/25] covers two separate causal tasks -- effect estimation and classification using intereventional samples.\n",
    "\n",
    "The below is for the former task of effect estimation."
   ]
  },
  {
   "cell_type": "markdown",
   "id": "999e8918",
   "metadata": {},
   "source": [
    "We should begin by first creating an instance of the custom CausalModule class."
   ]
  },
  {
   "cell_type": "code",
   "execution_count": 3,
   "id": "c0cdf431",
   "metadata": {},
   "outputs": [
    {
     "name": "stderr",
     "output_type": "stream",
     "text": [
      "2025-08-21 14:52:59,662 INFO: CausalModule initialized with provided parameters.\n"
     ]
    }
   ],
   "source": [
    "from CausalModule import CausalModule\n",
    "\n",
    "causal_module = CausalModule(\n",
    "    data=data,\n",
    "    treatment_variable=treatment_variable,\n",
    "    outcome_variable=outcome_variable,\n",
    ")"
   ]
  },
  {
   "cell_type": "markdown",
   "id": "d244e8de",
   "metadata": {},
   "source": [
    "Next, let's discover a causal graph. If you already have a causal graph, you can alternatively use `input_causal_graph()` but for now let's assume that we are yet to discover the causal graph."
   ]
  },
  {
   "cell_type": "code",
   "execution_count": 4,
   "id": "0fee03d7",
   "metadata": {},
   "outputs": [
    {
     "name": "stderr",
     "output_type": "stream",
     "text": [
      "2025-08-21 14:52:59,668 INFO: Finding causal graph using pc algorithm\n",
      "Depth=5, working on node 8: 100%|██████████| 9/9 [00:00<00:00, 2370.41it/s]\n"
     ]
    },
    {
     "data": {
      "text/plain": [
       "<networkx.classes.digraph.DiGraph at 0x163f9a110>"
      ]
     },
     "execution_count": 4,
     "metadata": {},
     "output_type": "execute_result"
    }
   ],
   "source": [
    "causal_module.find_causal_graph(algo=discovery_algorithm)"
   ]
  },
  {
   "cell_type": "markdown",
   "id": "d81a47fe",
   "metadata": {},
   "source": [
    "Now that we have discovered a causal graph, it might be a good idea to first see how the graph looks like."
   ]
  },
  {
   "cell_type": "code",
   "execution_count": 5,
   "id": "9677b763",
   "metadata": {},
   "outputs": [
    {
     "data": {
      "image/png": "[encoded data removed]",
      "text/plain": [
       "<Figure size 1000x1000 with 1 Axes>"
      ]
     },
     "metadata": {},
     "output_type": "display_data"
    }
   ],
   "source": [
    "causal_module.see_graph()"
   ]
  },
  {
   "cell_type": "markdown",
   "id": "b7eed3b8",
   "metadata": {},
   "source": [
    "It might also be a good idea to see the graph properties."
   ]
  },
  {
   "cell_type": "code",
   "execution_count": 6,
   "id": "4ef78d82",
   "metadata": {},
   "outputs": [
    {
     "name": "stderr",
     "output_type": "stream",
     "text": [
      "2025-08-21 14:53:00,914 INFO: ==========================================\n",
      "2025-08-21 14:53:00,915 INFO: Number of nodes: 9\n",
      "2025-08-21 14:53:00,916 INFO: ==========================================\n",
      "2025-08-21 14:53:00,916 INFO: Number of edges: 12\n",
      "2025-08-21 14:53:00,917 INFO: ==========================================\n",
      "2025-08-21 14:53:00,917 INFO: Edge: Z1 -> v0, Weight: 1\n",
      "2025-08-21 14:53:00,917 INFO: Edge: W0 -> Z0, Weight: 1\n",
      "2025-08-21 14:53:00,918 INFO: Edge: W0 -> y, Weight: 1\n",
      "2025-08-21 14:53:00,918 INFO: Edge: W1 -> v0, Weight: 1\n",
      "2025-08-21 14:53:00,918 INFO: Edge: W1 -> y, Weight: 1\n",
      "2025-08-21 14:53:00,919 INFO: Edge: W2 -> y, Weight: 1\n",
      "2025-08-21 14:53:00,919 INFO: Edge: W3 -> v0, Weight: 1\n",
      "2025-08-21 14:53:00,919 INFO: Edge: W3 -> y, Weight: 1\n",
      "2025-08-21 14:53:00,919 INFO: Edge: W4 -> v0, Weight: 1\n",
      "2025-08-21 14:53:00,920 INFO: Edge: W4 -> y, Weight: 1\n",
      "2025-08-21 14:53:00,920 INFO: Edge: v0 -> Z0, Weight: 1\n",
      "2025-08-21 14:53:00,920 INFO: Edge: v0 -> y, Weight: 1\n",
      "2025-08-21 14:53:00,920 INFO: ==========================================\n",
      "2025-08-21 14:53:00,921 INFO: Paths from v0 [treatment] to y [outcome]: 1\n",
      "2025-08-21 14:53:00,921 INFO: v0 -> y\n",
      "2025-08-21 14:53:00,922 INFO: ==========================================\n",
      "2025-08-21 14:53:00,922 INFO: Markov blanket of v0: ['Z0', 'Z1', 'W2', 'W0', 'W4', 'W3', 'W1', 'y']\n",
      "2025-08-21 14:53:00,922 INFO: Markov blanket of y: ['W2', 'W0', 'W3', 'W1', 'v0', 'W4']\n"
     ]
    },
    {
     "data": {
      "text/plain": [
       "{'num_nodes': 9,\n",
       " 'num_edges': 12,\n",
       " 'edge_weights': {'Z1->v0': 1,\n",
       "  'W0->Z0': 1,\n",
       "  'W0->y': 1,\n",
       "  'W1->v0': 1,\n",
       "  'W1->y': 1,\n",
       "  'W2->y': 1,\n",
       "  'W3->v0': 1,\n",
       "  'W3->y': 1,\n",
       "  'W4->v0': 1,\n",
       "  'W4->y': 1,\n",
       "  'v0->Z0': 1,\n",
       "  'v0->y': 1},\n",
       " 'all_paths': [['v0', 'y']],\n",
       " 'treatment_mb': ['Z0', 'Z1', 'W2', 'W0', 'W4', 'W3', 'W1', 'y'],\n",
       " 'outcome_mb': ['W2', 'W0', 'W3', 'W1', 'v0', 'W4']}"
      ]
     },
     "execution_count": 6,
     "metadata": {},
     "output_type": "execute_result"
    }
   ],
   "source": [
    "causal_module.see_graph_properties()"
   ]
  },
  {
   "cell_type": "markdown",
   "id": "31345ea7",
   "metadata": {},
   "source": [
    "It is crucial that we validate the graph and make changes if relations in the graph don't align with the statistical relations in the data.\n",
    "\n",
    "For now I will just test with 10 permutations to preserve time and resources. Remember that you can utilize n_jobs to make this run faster if needed."
   ]
  },
  {
   "cell_type": "code",
   "execution_count": 7,
   "id": "b89f12b3",
   "metadata": {},
   "outputs": [
    {
     "name": "stderr",
     "output_type": "stream",
     "text": [
      "2025-08-21 14:53:00,928 INFO: Refuting the discovered/given causal graph\n",
      "Test permutations of given graph: 100%|██████████| 10/10 [00:30<00:00,  3.01s/it]\n"
     ]
    },
    {
     "data": {
      "text/plain": [
       "<networkx.classes.digraph.DiGraph at 0x12d60df50>"
      ]
     },
     "execution_count": 7,
     "metadata": {},
     "output_type": "execute_result"
    }
   ],
   "source": [
    "causal_module.refute_cgm(n_perm=10)"
   ]
  },
  {
   "cell_type": "markdown",
   "id": "84e03686",
   "metadata": {},
   "source": [
    "We can take a look at what the graph refutation results look like."
   ]
  },
  {
   "cell_type": "code",
   "execution_count": 8,
   "id": "03f6264c",
   "metadata": {},
   "outputs": [
    {
     "name": "stderr",
     "output_type": "stream",
     "text": [
      "2025-08-21 14:53:39,940 INFO: Graph refutation metrics: TPA: 0/10 (p-value: 0.00), LMC: 8/43 (p-value: 0.00)\n"
     ]
    }
   ],
   "source": [
    "causal_module.see_graph_refutation()"
   ]
  },
  {
   "cell_type": "markdown",
   "id": "0a474de7",
   "metadata": {},
   "source": [
    "In the above graph refutation result the two fraction/p-values represent the following (respectively):\n",
    "\n",
    "* Measure whether the LCMs implied by our graph satisfy the data. Compares the number of LCMs violated by our graph with the number of LCMs violated by a randomly permuted set of graphs.\n",
    "\n",
    "* Check whether the graph is falsifiable. Assuming our graph is correct, how many other permuted graphs share the same number of LCM violations.\n"
   ]
  },
  {
   "cell_type": "markdown",
   "id": "e3c2cef9",
   "metadata": {},
   "source": [
    "We might also want to see what the graph now looks like (since the function could have made modifications to the original graph if some relations hadn't matched with the data)."
   ]
  },
  {
   "cell_type": "code",
   "execution_count": 9,
   "id": "b81e6ea7",
   "metadata": {},
   "outputs": [
    {
     "data": {
      "image/png": "[encoded data removed]",
      "text/plain": [
       "<Figure size 1000x1000 with 1 Axes>"
      ]
     },
     "metadata": {},
     "output_type": "display_data"
    }
   ],
   "source": [
    "causal_module.see_graph()"
   ]
  },
  {
   "cell_type": "markdown",
   "id": "457f388a",
   "metadata": {},
   "source": [
    "Next, we should create a causal model that can be understood by DoWhy."
   ]
  },
  {
   "cell_type": "code",
   "execution_count": 10,
   "id": "99be5331",
   "metadata": {},
   "outputs": [
    {
     "name": "stderr",
     "output_type": "stream",
     "text": [
      "2025-08-21 14:53:40,176 INFO: Creating a causal model from the discovered/given causal graph\n",
      "2025-08-21 14:53:40,178 INFO: Model to find the causal effect of treatment ['v0'] on outcome ['y']\n"
     ]
    },
    {
     "data": {
      "text/plain": [
       "<dowhy.causal_model.CausalModel at 0x10db7aa90>"
      ]
     },
     "execution_count": 10,
     "metadata": {},
     "output_type": "execute_result"
    }
   ],
   "source": [
    "causal_module.create_model()"
   ]
  },
  {
   "cell_type": "markdown",
   "id": "52673401",
   "metadata": {},
   "source": [
    "## Saving the module instance"
   ]
  },
  {
   "cell_type": "markdown",
   "id": "615efe04",
   "metadata": {},
   "source": [
    "Now imagine we want to save the module instance to load it back in later, how can we do this?\n",
    "\n",
    "We need to first import some utility functions from `utilities/utils.py`"
   ]
  },
  {
   "cell_type": "code",
   "execution_count": 11,
   "id": "c56f8dc1",
   "metadata": {},
   "outputs": [],
   "source": [
    "from utilities.utils import save_instance_to_pickle, load_instance_from_pickle"
   ]
  },
  {
   "cell_type": "code",
   "execution_count": 12,
   "id": "07c65822",
   "metadata": {},
   "outputs": [
    {
     "name": "stdout",
     "output_type": "stream",
     "text": [
      "CausalModule instance saved to model/081925_5:30.pkl\n"
     ]
    }
   ],
   "source": [
    "save_instance_to_pickle(instance=causal_module, file_path='model/081925_5:30.pkl')"
   ]
  },
  {
   "cell_type": "markdown",
   "id": "354b5eea",
   "metadata": {},
   "source": [
    "## Loading module instance"
   ]
  },
  {
   "cell_type": "markdown",
   "id": "f3e06575",
   "metadata": {},
   "source": [
    "Now let's load back in the module instance and continue with the classification task."
   ]
  },
  {
   "cell_type": "code",
   "execution_count": 13,
   "id": "aa8b9e54",
   "metadata": {},
   "outputs": [
    {
     "name": "stdout",
     "output_type": "stream",
     "text": [
      "CausalModule instance loaded from model/081925_5:30.pkl\n"
     ]
    }
   ],
   "source": [
    "causal_module_loaded = load_instance_from_pickle(file_path='model/081925_5:30.pkl')"
   ]
  },
  {
   "cell_type": "markdown",
   "id": "9dd8ca91",
   "metadata": {},
   "source": [
    "### Estimation"
   ]
  },
  {
   "cell_type": "markdown",
   "id": "accf0d60",
   "metadata": {},
   "source": [
    "We need to first identify an estimand expression (a statistical expression that encodes the relationship between the treatment and outcome)"
   ]
  },
  {
   "cell_type": "code",
   "execution_count": 16,
   "id": "bf142c45",
   "metadata": {},
   "outputs": [
    {
     "name": "stderr",
     "output_type": "stream",
     "text": [
      "2025-08-21 14:54:20,224 INFO: Identifying the effect estimand of the treatment on the outcome variable\n",
      "2025-08-21 14:54:20,228 INFO: Causal effect can be identified.\n",
      "2025-08-21 14:54:20,229 INFO: Instrumental variables for treatment and outcome:['Z1']\n",
      "2025-08-21 14:54:20,231 INFO: Frontdoor variables for treatment and outcome:[]\n",
      "2025-08-21 14:54:20,231 INFO: Note that you can also use other methods for the identification process. Below are method descriptions taken directly from DoWhy's documentation\n",
      "2025-08-21 14:54:20,232 INFO: maximal-adjustment: returns the maximal set that satisfies the backdoor criterion. This is usually the fastest way to find a valid backdoor set, but the set may contain many superfluous variables.\n",
      "2025-08-21 14:54:20,232 INFO: minimal-adjustment: returns the set with minimal number of variables that satisfies the backdoor criterion. This may take longer to execute, and sometimes may not return any backdoor set within the maximum number of iterations.\n",
      "2025-08-21 14:54:20,233 INFO: exhaustive-search: returns all valid backdoor sets. This can take a while to run for large graphs.\n",
      "2025-08-21 14:54:20,233 INFO: default: This is a good mix of minimal and maximal adjustment. It starts with maximal adjustment which is usually fast. It then runs minimal adjustment and returns the set having the smallest number of variables.\n"
     ]
    },
    {
     "data": {
      "text/plain": [
       "<dowhy.causal_identifier.identified_estimand.IdentifiedEstimand at 0x164fbba50>"
      ]
     },
     "execution_count": 16,
     "metadata": {},
     "output_type": "execute_result"
    }
   ],
   "source": [
    "causal_module_loaded.identify_effect()"
   ]
  },
  {
   "cell_type": "markdown",
   "id": "78ccafcb",
   "metadata": {},
   "source": [
    "Next, we should actually use the identified estimand to estimate a causal effect between the treatment and outcome. Remember to set the control value and treatment value for the treatment variable in the parameters."
   ]
  },
  {
   "cell_type": "code",
   "execution_count": 17,
   "id": "22fbffe2",
   "metadata": {},
   "outputs": [
    {
     "name": "stderr",
     "output_type": "stream",
     "text": [
      "2025-08-21 14:54:20,238 INFO: Estimating the effect of the treatment on the outcome variable\n",
      "2025-08-21 14:54:20,239 INFO: linear_regression\n",
      "2025-08-21 14:54:20,240 INFO: INFO: Using Linear Regression Estimator\n",
      "2025-08-21 14:54:20,242 INFO: b: y~v0+W3+W1+W4+v0*W2+v0*W0\n",
      "2025-08-21 14:54:20,324 INFO: INFO: The sample size: 10000\n",
      "2025-08-21 14:54:20,324 INFO: INFO: The number of simulations: 399\n",
      "2025-08-21 14:54:20,328 INFO: b: y~v0+W3+W1+W4+v0*W2+v0*W0\n",
      "2025-08-21 14:54:20,400 INFO: b: y~v0+W3+W1+W4+v0*W2+v0*W0\n",
      "2025-08-21 14:54:20,476 INFO: b: y~v0+W3+W1+W4+v0*W2+v0*W0\n",
      "2025-08-21 14:54:20,551 INFO: b: y~v0+W3+W1+W4+v0*W2+v0*W0\n",
      "2025-08-21 14:54:20,625 INFO: b: y~v0+W3+W1+W4+v0*W2+v0*W0\n",
      "2025-08-21 14:54:20,699 INFO: b: y~v0+W3+W1+W4+v0*W2+v0*W0\n",
      "2025-08-21 14:54:20,770 INFO: b: y~v0+W3+W1+W4+v0*W2+v0*W0\n",
      "2025-08-21 14:54:20,843 INFO: b: y~v0+W3+W1+W4+v0*W2+v0*W0\n",
      "2025-08-21 14:54:20,915 INFO: b: y~v0+W3+W1+W4+v0*W2+v0*W0\n",
      "2025-08-21 14:54:21,008 INFO: b: y~v0+W3+W1+W4+v0*W2+v0*W0\n",
      "2025-08-21 14:54:21,082 INFO: b: y~v0+W3+W1+W4+v0*W2+v0*W0\n",
      "2025-08-21 14:54:21,154 INFO: b: y~v0+W3+W1+W4+v0*W2+v0*W0\n",
      "2025-08-21 14:54:21,227 INFO: b: y~v0+W3+W1+W4+v0*W2+v0*W0\n",
      "2025-08-21 14:54:21,298 INFO: b: y~v0+W3+W1+W4+v0*W2+v0*W0\n",
      "2025-08-21 14:54:21,376 INFO: b: y~v0+W3+W1+W4+v0*W2+v0*W0\n",
      "2025-08-21 14:54:21,451 INFO: b: y~v0+W3+W1+W4+v0*W2+v0*W0\n",
      "2025-08-21 14:54:21,525 INFO: b: y~v0+W3+W1+W4+v0*W2+v0*W0\n",
      "2025-08-21 14:54:21,599 INFO: b: y~v0+W3+W1+W4+v0*W2+v0*W0\n",
      "2025-08-21 14:54:21,673 INFO: b: y~v0+W3+W1+W4+v0*W2+v0*W0\n",
      "2025-08-21 14:54:21,749 INFO: b: y~v0+W3+W1+W4+v0*W2+v0*W0\n",
      "2025-08-21 14:54:21,823 INFO: b: y~v0+W3+W1+W4+v0*W2+v0*W0\n",
      "2025-08-21 14:54:21,897 INFO: b: y~v0+W3+W1+W4+v0*W2+v0*W0\n",
      "2025-08-21 14:54:21,973 INFO: b: y~v0+W3+W1+W4+v0*W2+v0*W0\n",
      "2025-08-21 14:54:22,048 INFO: b: y~v0+W3+W1+W4+v0*W2+v0*W0\n",
      "2025-08-21 14:54:22,124 INFO: b: y~v0+W3+W1+W4+v0*W2+v0*W0\n",
      "2025-08-21 14:54:22,198 INFO: b: y~v0+W3+W1+W4+v0*W2+v0*W0\n",
      "2025-08-21 14:54:22,274 INFO: b: y~v0+W3+W1+W4+v0*W2+v0*W0\n",
      "2025-08-21 14:54:22,348 INFO: b: y~v0+W3+W1+W4+v0*W2+v0*W0\n",
      "2025-08-21 14:54:22,425 INFO: b: y~v0+W3+W1+W4+v0*W2+v0*W0\n",
      "2025-08-21 14:54:22,498 INFO: b: y~v0+W3+W1+W4+v0*W2+v0*W0\n",
      "2025-08-21 14:54:22,572 INFO: b: y~v0+W3+W1+W4+v0*W2+v0*W0\n",
      "2025-08-21 14:54:22,646 INFO: b: y~v0+W3+W1+W4+v0*W2+v0*W0\n",
      "2025-08-21 14:54:22,719 INFO: b: y~v0+W3+W1+W4+v0*W2+v0*W0\n",
      "2025-08-21 14:54:22,793 INFO: b: y~v0+W3+W1+W4+v0*W2+v0*W0\n",
      "2025-08-21 14:54:22,866 INFO: b: y~v0+W3+W1+W4+v0*W2+v0*W0\n",
      "2025-08-21 14:54:22,940 INFO: b: y~v0+W3+W1+W4+v0*W2+v0*W0\n",
      "2025-08-21 14:54:23,013 INFO: b: y~v0+W3+W1+W4+v0*W2+v0*W0\n",
      "2025-08-21 14:54:23,088 INFO: b: y~v0+W3+W1+W4+v0*W2+v0*W0\n",
      "2025-08-21 14:54:23,163 INFO: b: y~v0+W3+W1+W4+v0*W2+v0*W0\n",
      "2025-08-21 14:54:23,237 INFO: b: y~v0+W3+W1+W4+v0*W2+v0*W0\n",
      "2025-08-21 14:54:23,313 INFO: b: y~v0+W3+W1+W4+v0*W2+v0*W0\n",
      "2025-08-21 14:54:23,388 INFO: b: y~v0+W3+W1+W4+v0*W2+v0*W0\n",
      "2025-08-21 14:54:23,461 INFO: b: y~v0+W3+W1+W4+v0*W2+v0*W0\n",
      "2025-08-21 14:54:23,535 INFO: b: y~v0+W3+W1+W4+v0*W2+v0*W0\n",
      "2025-08-21 14:54:23,610 INFO: b: y~v0+W3+W1+W4+v0*W2+v0*W0\n",
      "2025-08-21 14:54:23,684 INFO: b: y~v0+W3+W1+W4+v0*W2+v0*W0\n",
      "2025-08-21 14:54:23,759 INFO: b: y~v0+W3+W1+W4+v0*W2+v0*W0\n",
      "2025-08-21 14:54:23,837 INFO: b: y~v0+W3+W1+W4+v0*W2+v0*W0\n",
      "2025-08-21 14:54:23,911 INFO: b: y~v0+W3+W1+W4+v0*W2+v0*W0\n",
      "2025-08-21 14:54:23,983 INFO: b: y~v0+W3+W1+W4+v0*W2+v0*W0\n",
      "2025-08-21 14:54:24,057 INFO: b: y~v0+W3+W1+W4+v0*W2+v0*W0\n",
      "2025-08-21 14:54:24,131 INFO: b: y~v0+W3+W1+W4+v0*W2+v0*W0\n",
      "2025-08-21 14:54:24,204 INFO: b: y~v0+W3+W1+W4+v0*W2+v0*W0\n",
      "2025-08-21 14:54:24,285 INFO: b: y~v0+W3+W1+W4+v0*W2+v0*W0\n",
      "2025-08-21 14:54:24,359 INFO: b: y~v0+W3+W1+W4+v0*W2+v0*W0\n",
      "2025-08-21 14:54:24,433 INFO: b: y~v0+W3+W1+W4+v0*W2+v0*W0\n",
      "2025-08-21 14:54:24,506 INFO: b: y~v0+W3+W1+W4+v0*W2+v0*W0\n",
      "2025-08-21 14:54:24,579 INFO: b: y~v0+W3+W1+W4+v0*W2+v0*W0\n",
      "2025-08-21 14:54:24,658 INFO: b: y~v0+W3+W1+W4+v0*W2+v0*W0\n",
      "2025-08-21 14:54:24,732 INFO: b: y~v0+W3+W1+W4+v0*W2+v0*W0\n",
      "2025-08-21 14:54:24,804 INFO: b: y~v0+W3+W1+W4+v0*W2+v0*W0\n",
      "2025-08-21 14:54:24,878 INFO: b: y~v0+W3+W1+W4+v0*W2+v0*W0\n",
      "2025-08-21 14:54:24,951 INFO: b: y~v0+W3+W1+W4+v0*W2+v0*W0\n",
      "2025-08-21 14:54:25,024 INFO: b: y~v0+W3+W1+W4+v0*W2+v0*W0\n",
      "2025-08-21 14:54:25,099 INFO: b: y~v0+W3+W1+W4+v0*W2+v0*W0\n",
      "2025-08-21 14:54:25,171 INFO: b: y~v0+W3+W1+W4+v0*W2+v0*W0\n",
      "2025-08-21 14:54:25,245 INFO: b: y~v0+W3+W1+W4+v0*W2+v0*W0\n",
      "2025-08-21 14:54:25,319 INFO: b: y~v0+W3+W1+W4+v0*W2+v0*W0\n",
      "2025-08-21 14:54:25,391 INFO: b: y~v0+W3+W1+W4+v0*W2+v0*W0\n",
      "2025-08-21 14:54:25,464 INFO: b: y~v0+W3+W1+W4+v0*W2+v0*W0\n",
      "2025-08-21 14:54:25,537 INFO: b: y~v0+W3+W1+W4+v0*W2+v0*W0\n",
      "2025-08-21 14:54:25,610 INFO: b: y~v0+W3+W1+W4+v0*W2+v0*W0\n",
      "2025-08-21 14:54:25,683 INFO: b: y~v0+W3+W1+W4+v0*W2+v0*W0\n",
      "2025-08-21 14:54:25,756 INFO: b: y~v0+W3+W1+W4+v0*W2+v0*W0\n",
      "2025-08-21 14:54:25,829 INFO: b: y~v0+W3+W1+W4+v0*W2+v0*W0\n",
      "2025-08-21 14:54:25,901 INFO: b: y~v0+W3+W1+W4+v0*W2+v0*W0\n",
      "2025-08-21 14:54:25,975 INFO: b: y~v0+W3+W1+W4+v0*W2+v0*W0\n",
      "2025-08-21 14:54:26,048 INFO: b: y~v0+W3+W1+W4+v0*W2+v0*W0\n",
      "2025-08-21 14:54:26,122 INFO: b: y~v0+W3+W1+W4+v0*W2+v0*W0\n",
      "2025-08-21 14:54:26,196 INFO: b: y~v0+W3+W1+W4+v0*W2+v0*W0\n",
      "2025-08-21 14:54:26,270 INFO: b: y~v0+W3+W1+W4+v0*W2+v0*W0\n",
      "2025-08-21 14:54:26,345 INFO: b: y~v0+W3+W1+W4+v0*W2+v0*W0\n",
      "2025-08-21 14:54:26,418 INFO: b: y~v0+W3+W1+W4+v0*W2+v0*W0\n",
      "2025-08-21 14:54:26,491 INFO: b: y~v0+W3+W1+W4+v0*W2+v0*W0\n",
      "2025-08-21 14:54:26,565 INFO: b: y~v0+W3+W1+W4+v0*W2+v0*W0\n",
      "2025-08-21 14:54:26,638 INFO: b: y~v0+W3+W1+W4+v0*W2+v0*W0\n",
      "2025-08-21 14:54:26,712 INFO: b: y~v0+W3+W1+W4+v0*W2+v0*W0\n",
      "2025-08-21 14:54:26,785 INFO: b: y~v0+W3+W1+W4+v0*W2+v0*W0\n",
      "2025-08-21 14:54:26,860 INFO: b: y~v0+W3+W1+W4+v0*W2+v0*W0\n",
      "2025-08-21 14:54:26,934 INFO: b: y~v0+W3+W1+W4+v0*W2+v0*W0\n",
      "2025-08-21 14:54:27,008 INFO: b: y~v0+W3+W1+W4+v0*W2+v0*W0\n",
      "2025-08-21 14:54:27,082 INFO: b: y~v0+W3+W1+W4+v0*W2+v0*W0\n",
      "2025-08-21 14:54:27,156 INFO: b: y~v0+W3+W1+W4+v0*W2+v0*W0\n",
      "2025-08-21 14:54:27,229 INFO: b: y~v0+W3+W1+W4+v0*W2+v0*W0\n",
      "2025-08-21 14:54:27,327 INFO: b: y~v0+W3+W1+W4+v0*W2+v0*W0\n",
      "2025-08-21 14:54:27,401 INFO: b: y~v0+W3+W1+W4+v0*W2+v0*W0\n",
      "2025-08-21 14:54:27,477 INFO: b: y~v0+W3+W1+W4+v0*W2+v0*W0\n",
      "2025-08-21 14:54:27,551 INFO: b: y~v0+W3+W1+W4+v0*W2+v0*W0\n",
      "2025-08-21 14:54:27,626 INFO: b: y~v0+W3+W1+W4+v0*W2+v0*W0\n",
      "2025-08-21 14:54:27,700 INFO: b: y~v0+W3+W1+W4+v0*W2+v0*W0\n",
      "2025-08-21 14:54:27,773 INFO: b: y~v0+W3+W1+W4+v0*W2+v0*W0\n",
      "2025-08-21 14:54:27,848 INFO: b: y~v0+W3+W1+W4+v0*W2+v0*W0\n",
      "2025-08-21 14:54:27,921 INFO: b: y~v0+W3+W1+W4+v0*W2+v0*W0\n",
      "2025-08-21 14:54:27,995 INFO: b: y~v0+W3+W1+W4+v0*W2+v0*W0\n",
      "2025-08-21 14:54:28,068 INFO: b: y~v0+W3+W1+W4+v0*W2+v0*W0\n",
      "2025-08-21 14:54:28,140 INFO: b: y~v0+W3+W1+W4+v0*W2+v0*W0\n",
      "2025-08-21 14:54:28,213 INFO: b: y~v0+W3+W1+W4+v0*W2+v0*W0\n",
      "2025-08-21 14:54:28,289 INFO: b: y~v0+W3+W1+W4+v0*W2+v0*W0\n",
      "2025-08-21 14:54:28,367 INFO: b: y~v0+W3+W1+W4+v0*W2+v0*W0\n",
      "2025-08-21 14:54:28,441 INFO: b: y~v0+W3+W1+W4+v0*W2+v0*W0\n",
      "2025-08-21 14:54:28,515 INFO: b: y~v0+W3+W1+W4+v0*W2+v0*W0\n",
      "2025-08-21 14:54:28,590 INFO: b: y~v0+W3+W1+W4+v0*W2+v0*W0\n",
      "2025-08-21 14:54:28,666 INFO: b: y~v0+W3+W1+W4+v0*W2+v0*W0\n",
      "2025-08-21 14:54:28,740 INFO: b: y~v0+W3+W1+W4+v0*W2+v0*W0\n",
      "2025-08-21 14:54:28,815 INFO: b: y~v0+W3+W1+W4+v0*W2+v0*W0\n",
      "2025-08-21 14:54:28,891 INFO: b: y~v0+W3+W1+W4+v0*W2+v0*W0\n",
      "2025-08-21 14:54:28,965 INFO: b: y~v0+W3+W1+W4+v0*W2+v0*W0\n",
      "2025-08-21 14:54:29,043 INFO: b: y~v0+W3+W1+W4+v0*W2+v0*W0\n",
      "2025-08-21 14:54:29,120 INFO: b: y~v0+W3+W1+W4+v0*W2+v0*W0\n",
      "2025-08-21 14:54:29,194 INFO: b: y~v0+W3+W1+W4+v0*W2+v0*W0\n",
      "2025-08-21 14:54:29,269 INFO: b: y~v0+W3+W1+W4+v0*W2+v0*W0\n",
      "2025-08-21 14:54:29,343 INFO: b: y~v0+W3+W1+W4+v0*W2+v0*W0\n",
      "2025-08-21 14:54:29,416 INFO: b: y~v0+W3+W1+W4+v0*W2+v0*W0\n",
      "2025-08-21 14:54:29,490 INFO: b: y~v0+W3+W1+W4+v0*W2+v0*W0\n",
      "2025-08-21 14:54:29,566 INFO: b: y~v0+W3+W1+W4+v0*W2+v0*W0\n",
      "2025-08-21 14:54:29,640 INFO: b: y~v0+W3+W1+W4+v0*W2+v0*W0\n",
      "2025-08-21 14:54:29,713 INFO: b: y~v0+W3+W1+W4+v0*W2+v0*W0\n",
      "2025-08-21 14:54:29,787 INFO: b: y~v0+W3+W1+W4+v0*W2+v0*W0\n",
      "2025-08-21 14:54:29,860 INFO: b: y~v0+W3+W1+W4+v0*W2+v0*W0\n",
      "2025-08-21 14:54:29,935 INFO: b: y~v0+W3+W1+W4+v0*W2+v0*W0\n",
      "2025-08-21 14:54:30,011 INFO: b: y~v0+W3+W1+W4+v0*W2+v0*W0\n",
      "2025-08-21 14:54:30,084 INFO: b: y~v0+W3+W1+W4+v0*W2+v0*W0\n",
      "2025-08-21 14:54:30,158 INFO: b: y~v0+W3+W1+W4+v0*W2+v0*W0\n",
      "2025-08-21 14:54:30,232 INFO: b: y~v0+W3+W1+W4+v0*W2+v0*W0\n",
      "2025-08-21 14:54:30,305 INFO: b: y~v0+W3+W1+W4+v0*W2+v0*W0\n",
      "2025-08-21 14:54:30,379 INFO: b: y~v0+W3+W1+W4+v0*W2+v0*W0\n",
      "2025-08-21 14:54:30,453 INFO: b: y~v0+W3+W1+W4+v0*W2+v0*W0\n",
      "2025-08-21 14:54:30,526 INFO: b: y~v0+W3+W1+W4+v0*W2+v0*W0\n",
      "2025-08-21 14:54:30,599 INFO: b: y~v0+W3+W1+W4+v0*W2+v0*W0\n",
      "2025-08-21 14:54:30,671 INFO: b: y~v0+W3+W1+W4+v0*W2+v0*W0\n",
      "2025-08-21 14:54:30,745 INFO: b: y~v0+W3+W1+W4+v0*W2+v0*W0\n",
      "2025-08-21 14:54:30,817 INFO: b: y~v0+W3+W1+W4+v0*W2+v0*W0\n",
      "2025-08-21 14:54:30,890 INFO: b: y~v0+W3+W1+W4+v0*W2+v0*W0\n",
      "2025-08-21 14:54:30,963 INFO: b: y~v0+W3+W1+W4+v0*W2+v0*W0\n",
      "2025-08-21 14:54:31,037 INFO: b: y~v0+W3+W1+W4+v0*W2+v0*W0\n",
      "2025-08-21 14:54:31,111 INFO: b: y~v0+W3+W1+W4+v0*W2+v0*W0\n",
      "2025-08-21 14:54:31,183 INFO: b: y~v0+W3+W1+W4+v0*W2+v0*W0\n",
      "2025-08-21 14:54:31,256 INFO: b: y~v0+W3+W1+W4+v0*W2+v0*W0\n",
      "2025-08-21 14:54:31,330 INFO: b: y~v0+W3+W1+W4+v0*W2+v0*W0\n",
      "2025-08-21 14:54:31,404 INFO: b: y~v0+W3+W1+W4+v0*W2+v0*W0\n",
      "2025-08-21 14:54:31,478 INFO: b: y~v0+W3+W1+W4+v0*W2+v0*W0\n",
      "2025-08-21 14:54:31,551 INFO: b: y~v0+W3+W1+W4+v0*W2+v0*W0\n",
      "2025-08-21 14:54:31,627 INFO: b: y~v0+W3+W1+W4+v0*W2+v0*W0\n",
      "2025-08-21 14:54:31,699 INFO: b: y~v0+W3+W1+W4+v0*W2+v0*W0\n",
      "2025-08-21 14:54:31,772 INFO: b: y~v0+W3+W1+W4+v0*W2+v0*W0\n",
      "2025-08-21 14:54:31,844 INFO: b: y~v0+W3+W1+W4+v0*W2+v0*W0\n",
      "2025-08-21 14:54:31,918 INFO: b: y~v0+W3+W1+W4+v0*W2+v0*W0\n",
      "2025-08-21 14:54:31,991 INFO: b: y~v0+W3+W1+W4+v0*W2+v0*W0\n",
      "2025-08-21 14:54:32,065 INFO: b: y~v0+W3+W1+W4+v0*W2+v0*W0\n",
      "2025-08-21 14:54:32,138 INFO: b: y~v0+W3+W1+W4+v0*W2+v0*W0\n",
      "2025-08-21 14:54:32,212 INFO: b: y~v0+W3+W1+W4+v0*W2+v0*W0\n",
      "2025-08-21 14:54:32,284 INFO: b: y~v0+W3+W1+W4+v0*W2+v0*W0\n",
      "2025-08-21 14:54:32,358 INFO: b: y~v0+W3+W1+W4+v0*W2+v0*W0\n",
      "2025-08-21 14:54:32,433 INFO: b: y~v0+W3+W1+W4+v0*W2+v0*W0\n",
      "2025-08-21 14:54:32,506 INFO: b: y~v0+W3+W1+W4+v0*W2+v0*W0\n",
      "2025-08-21 14:54:32,580 INFO: b: y~v0+W3+W1+W4+v0*W2+v0*W0\n",
      "2025-08-21 14:54:32,653 INFO: b: y~v0+W3+W1+W4+v0*W2+v0*W0\n",
      "2025-08-21 14:54:32,726 INFO: b: y~v0+W3+W1+W4+v0*W2+v0*W0\n",
      "2025-08-21 14:54:32,798 INFO: b: y~v0+W3+W1+W4+v0*W2+v0*W0\n",
      "2025-08-21 14:54:32,889 INFO: b: y~v0+W3+W1+W4+v0*W2+v0*W0\n",
      "2025-08-21 14:54:32,967 INFO: b: y~v0+W3+W1+W4+v0*W2+v0*W0\n",
      "2025-08-21 14:54:33,042 INFO: b: y~v0+W3+W1+W4+v0*W2+v0*W0\n",
      "2025-08-21 14:54:33,114 INFO: b: y~v0+W3+W1+W4+v0*W2+v0*W0\n",
      "2025-08-21 14:54:33,189 INFO: b: y~v0+W3+W1+W4+v0*W2+v0*W0\n",
      "2025-08-21 14:54:33,268 INFO: b: y~v0+W3+W1+W4+v0*W2+v0*W0\n",
      "2025-08-21 14:54:33,343 INFO: b: y~v0+W3+W1+W4+v0*W2+v0*W0\n",
      "2025-08-21 14:54:33,416 INFO: b: y~v0+W3+W1+W4+v0*W2+v0*W0\n",
      "2025-08-21 14:54:33,489 INFO: b: y~v0+W3+W1+W4+v0*W2+v0*W0\n",
      "2025-08-21 14:54:33,562 INFO: b: y~v0+W3+W1+W4+v0*W2+v0*W0\n",
      "2025-08-21 14:54:33,634 INFO: b: y~v0+W3+W1+W4+v0*W2+v0*W0\n",
      "2025-08-21 14:54:33,706 INFO: b: y~v0+W3+W1+W4+v0*W2+v0*W0\n",
      "2025-08-21 14:54:33,779 INFO: b: y~v0+W3+W1+W4+v0*W2+v0*W0\n",
      "2025-08-21 14:54:33,852 INFO: b: y~v0+W3+W1+W4+v0*W2+v0*W0\n",
      "2025-08-21 14:54:33,924 INFO: b: y~v0+W3+W1+W4+v0*W2+v0*W0\n",
      "2025-08-21 14:54:33,997 INFO: b: y~v0+W3+W1+W4+v0*W2+v0*W0\n",
      "2025-08-21 14:54:34,071 INFO: b: y~v0+W3+W1+W4+v0*W2+v0*W0\n",
      "2025-08-21 14:54:34,146 INFO: b: y~v0+W3+W1+W4+v0*W2+v0*W0\n",
      "2025-08-21 14:54:34,221 INFO: b: y~v0+W3+W1+W4+v0*W2+v0*W0\n",
      "2025-08-21 14:54:34,296 INFO: b: y~v0+W3+W1+W4+v0*W2+v0*W0\n",
      "2025-08-21 14:54:34,369 INFO: b: y~v0+W3+W1+W4+v0*W2+v0*W0\n",
      "2025-08-21 14:54:34,444 INFO: b: y~v0+W3+W1+W4+v0*W2+v0*W0\n",
      "2025-08-21 14:54:34,520 INFO: b: y~v0+W3+W1+W4+v0*W2+v0*W0\n",
      "2025-08-21 14:54:34,595 INFO: b: y~v0+W3+W1+W4+v0*W2+v0*W0\n",
      "2025-08-21 14:54:34,669 INFO: b: y~v0+W3+W1+W4+v0*W2+v0*W0\n",
      "2025-08-21 14:54:34,742 INFO: b: y~v0+W3+W1+W4+v0*W2+v0*W0\n",
      "2025-08-21 14:54:34,815 INFO: b: y~v0+W3+W1+W4+v0*W2+v0*W0\n",
      "2025-08-21 14:54:34,893 INFO: b: y~v0+W3+W1+W4+v0*W2+v0*W0\n",
      "2025-08-21 14:54:34,967 INFO: b: y~v0+W3+W1+W4+v0*W2+v0*W0\n",
      "2025-08-21 14:54:35,039 INFO: b: y~v0+W3+W1+W4+v0*W2+v0*W0\n",
      "2025-08-21 14:54:35,113 INFO: b: y~v0+W3+W1+W4+v0*W2+v0*W0\n",
      "2025-08-21 14:54:35,187 INFO: b: y~v0+W3+W1+W4+v0*W2+v0*W0\n",
      "2025-08-21 14:54:35,260 INFO: b: y~v0+W3+W1+W4+v0*W2+v0*W0\n",
      "2025-08-21 14:54:35,331 INFO: b: y~v0+W3+W1+W4+v0*W2+v0*W0\n",
      "2025-08-21 14:54:35,404 INFO: b: y~v0+W3+W1+W4+v0*W2+v0*W0\n",
      "2025-08-21 14:54:35,477 INFO: b: y~v0+W3+W1+W4+v0*W2+v0*W0\n",
      "2025-08-21 14:54:35,550 INFO: b: y~v0+W3+W1+W4+v0*W2+v0*W0\n",
      "2025-08-21 14:54:35,625 INFO: b: y~v0+W3+W1+W4+v0*W2+v0*W0\n",
      "2025-08-21 14:54:35,698 INFO: b: y~v0+W3+W1+W4+v0*W2+v0*W0\n",
      "2025-08-21 14:54:35,771 INFO: b: y~v0+W3+W1+W4+v0*W2+v0*W0\n",
      "2025-08-21 14:54:35,845 INFO: b: y~v0+W3+W1+W4+v0*W2+v0*W0\n",
      "2025-08-21 14:54:35,918 INFO: b: y~v0+W3+W1+W4+v0*W2+v0*W0\n",
      "2025-08-21 14:54:35,990 INFO: b: y~v0+W3+W1+W4+v0*W2+v0*W0\n",
      "2025-08-21 14:54:36,063 INFO: b: y~v0+W3+W1+W4+v0*W2+v0*W0\n",
      "2025-08-21 14:54:36,138 INFO: b: y~v0+W3+W1+W4+v0*W2+v0*W0\n",
      "2025-08-21 14:54:36,212 INFO: b: y~v0+W3+W1+W4+v0*W2+v0*W0\n",
      "2025-08-21 14:54:36,285 INFO: b: y~v0+W3+W1+W4+v0*W2+v0*W0\n",
      "2025-08-21 14:54:36,359 INFO: b: y~v0+W3+W1+W4+v0*W2+v0*W0\n",
      "2025-08-21 14:54:36,432 INFO: b: y~v0+W3+W1+W4+v0*W2+v0*W0\n",
      "2025-08-21 14:54:36,504 INFO: b: y~v0+W3+W1+W4+v0*W2+v0*W0\n",
      "2025-08-21 14:54:36,577 INFO: b: y~v0+W3+W1+W4+v0*W2+v0*W0\n",
      "2025-08-21 14:54:36,651 INFO: b: y~v0+W3+W1+W4+v0*W2+v0*W0\n",
      "2025-08-21 14:54:36,725 INFO: b: y~v0+W3+W1+W4+v0*W2+v0*W0\n",
      "2025-08-21 14:54:36,798 INFO: b: y~v0+W3+W1+W4+v0*W2+v0*W0\n",
      "2025-08-21 14:54:36,874 INFO: b: y~v0+W3+W1+W4+v0*W2+v0*W0\n",
      "2025-08-21 14:54:36,949 INFO: b: y~v0+W3+W1+W4+v0*W2+v0*W0\n",
      "2025-08-21 14:54:37,023 INFO: b: y~v0+W3+W1+W4+v0*W2+v0*W0\n",
      "2025-08-21 14:54:37,096 INFO: b: y~v0+W3+W1+W4+v0*W2+v0*W0\n",
      "2025-08-21 14:54:37,170 INFO: b: y~v0+W3+W1+W4+v0*W2+v0*W0\n",
      "2025-08-21 14:54:37,243 INFO: b: y~v0+W3+W1+W4+v0*W2+v0*W0\n",
      "2025-08-21 14:54:37,318 INFO: b: y~v0+W3+W1+W4+v0*W2+v0*W0\n",
      "2025-08-21 14:54:37,391 INFO: b: y~v0+W3+W1+W4+v0*W2+v0*W0\n",
      "2025-08-21 14:54:37,464 INFO: b: y~v0+W3+W1+W4+v0*W2+v0*W0\n",
      "2025-08-21 14:54:37,537 INFO: b: y~v0+W3+W1+W4+v0*W2+v0*W0\n",
      "2025-08-21 14:54:37,611 INFO: b: y~v0+W3+W1+W4+v0*W2+v0*W0\n",
      "2025-08-21 14:54:37,686 INFO: b: y~v0+W3+W1+W4+v0*W2+v0*W0\n",
      "2025-08-21 14:54:37,759 INFO: b: y~v0+W3+W1+W4+v0*W2+v0*W0\n",
      "2025-08-21 14:54:37,835 INFO: b: y~v0+W3+W1+W4+v0*W2+v0*W0\n",
      "2025-08-21 14:54:37,908 INFO: b: y~v0+W3+W1+W4+v0*W2+v0*W0\n",
      "2025-08-21 14:54:37,981 INFO: b: y~v0+W3+W1+W4+v0*W2+v0*W0\n",
      "2025-08-21 14:54:38,055 INFO: b: y~v0+W3+W1+W4+v0*W2+v0*W0\n",
      "2025-08-21 14:54:38,129 INFO: b: y~v0+W3+W1+W4+v0*W2+v0*W0\n",
      "2025-08-21 14:54:38,204 INFO: b: y~v0+W3+W1+W4+v0*W2+v0*W0\n",
      "2025-08-21 14:54:38,277 INFO: b: y~v0+W3+W1+W4+v0*W2+v0*W0\n",
      "2025-08-21 14:54:38,350 INFO: b: y~v0+W3+W1+W4+v0*W2+v0*W0\n",
      "2025-08-21 14:54:38,423 INFO: b: y~v0+W3+W1+W4+v0*W2+v0*W0\n",
      "2025-08-21 14:54:38,496 INFO: b: y~v0+W3+W1+W4+v0*W2+v0*W0\n",
      "2025-08-21 14:54:38,569 INFO: b: y~v0+W3+W1+W4+v0*W2+v0*W0\n",
      "2025-08-21 14:54:38,642 INFO: b: y~v0+W3+W1+W4+v0*W2+v0*W0\n",
      "2025-08-21 14:54:38,715 INFO: b: y~v0+W3+W1+W4+v0*W2+v0*W0\n",
      "2025-08-21 14:54:38,787 INFO: b: y~v0+W3+W1+W4+v0*W2+v0*W0\n",
      "2025-08-21 14:54:38,860 INFO: b: y~v0+W3+W1+W4+v0*W2+v0*W0\n",
      "2025-08-21 14:54:38,934 INFO: b: y~v0+W3+W1+W4+v0*W2+v0*W0\n",
      "2025-08-21 14:54:39,007 INFO: b: y~v0+W3+W1+W4+v0*W2+v0*W0\n",
      "2025-08-21 14:54:39,080 INFO: b: y~v0+W3+W1+W4+v0*W2+v0*W0\n",
      "2025-08-21 14:54:39,154 INFO: b: y~v0+W3+W1+W4+v0*W2+v0*W0\n",
      "2025-08-21 14:54:39,231 INFO: b: y~v0+W3+W1+W4+v0*W2+v0*W0\n",
      "2025-08-21 14:54:39,304 INFO: b: y~v0+W3+W1+W4+v0*W2+v0*W0\n",
      "2025-08-21 14:54:39,377 INFO: b: y~v0+W3+W1+W4+v0*W2+v0*W0\n",
      "2025-08-21 14:54:39,469 INFO: b: y~v0+W3+W1+W4+v0*W2+v0*W0\n",
      "2025-08-21 14:54:39,543 INFO: b: y~v0+W3+W1+W4+v0*W2+v0*W0\n",
      "2025-08-21 14:54:39,616 INFO: b: y~v0+W3+W1+W4+v0*W2+v0*W0\n",
      "2025-08-21 14:54:39,690 INFO: b: y~v0+W3+W1+W4+v0*W2+v0*W0\n",
      "2025-08-21 14:54:39,763 INFO: b: y~v0+W3+W1+W4+v0*W2+v0*W0\n",
      "2025-08-21 14:54:39,836 INFO: b: y~v0+W3+W1+W4+v0*W2+v0*W0\n",
      "2025-08-21 14:54:39,909 INFO: b: y~v0+W3+W1+W4+v0*W2+v0*W0\n",
      "2025-08-21 14:54:39,982 INFO: b: y~v0+W3+W1+W4+v0*W2+v0*W0\n",
      "2025-08-21 14:54:40,056 INFO: b: y~v0+W3+W1+W4+v0*W2+v0*W0\n",
      "2025-08-21 14:54:40,130 INFO: b: y~v0+W3+W1+W4+v0*W2+v0*W0\n",
      "2025-08-21 14:54:40,203 INFO: b: y~v0+W3+W1+W4+v0*W2+v0*W0\n",
      "2025-08-21 14:54:40,277 INFO: b: y~v0+W3+W1+W4+v0*W2+v0*W0\n",
      "2025-08-21 14:54:40,349 INFO: b: y~v0+W3+W1+W4+v0*W2+v0*W0\n",
      "2025-08-21 14:54:40,423 INFO: b: y~v0+W3+W1+W4+v0*W2+v0*W0\n",
      "2025-08-21 14:54:40,497 INFO: b: y~v0+W3+W1+W4+v0*W2+v0*W0\n",
      "2025-08-21 14:54:40,571 INFO: b: y~v0+W3+W1+W4+v0*W2+v0*W0\n",
      "2025-08-21 14:54:40,644 INFO: b: y~v0+W3+W1+W4+v0*W2+v0*W0\n",
      "2025-08-21 14:54:40,718 INFO: b: y~v0+W3+W1+W4+v0*W2+v0*W0\n",
      "2025-08-21 14:54:40,793 INFO: b: y~v0+W3+W1+W4+v0*W2+v0*W0\n",
      "2025-08-21 14:54:40,869 INFO: b: y~v0+W3+W1+W4+v0*W2+v0*W0\n",
      "2025-08-21 14:54:40,942 INFO: b: y~v0+W3+W1+W4+v0*W2+v0*W0\n",
      "2025-08-21 14:54:41,016 INFO: b: y~v0+W3+W1+W4+v0*W2+v0*W0\n",
      "2025-08-21 14:54:41,089 INFO: b: y~v0+W3+W1+W4+v0*W2+v0*W0\n",
      "2025-08-21 14:54:41,165 INFO: b: y~v0+W3+W1+W4+v0*W2+v0*W0\n",
      "2025-08-21 14:54:41,240 INFO: b: y~v0+W3+W1+W4+v0*W2+v0*W0\n",
      "2025-08-21 14:54:41,314 INFO: b: y~v0+W3+W1+W4+v0*W2+v0*W0\n",
      "2025-08-21 14:54:41,388 INFO: b: y~v0+W3+W1+W4+v0*W2+v0*W0\n",
      "2025-08-21 14:54:41,462 INFO: b: y~v0+W3+W1+W4+v0*W2+v0*W0\n",
      "2025-08-21 14:54:41,537 INFO: b: y~v0+W3+W1+W4+v0*W2+v0*W0\n",
      "2025-08-21 14:54:41,613 INFO: b: y~v0+W3+W1+W4+v0*W2+v0*W0\n",
      "2025-08-21 14:54:41,688 INFO: b: y~v0+W3+W1+W4+v0*W2+v0*W0\n",
      "2025-08-21 14:54:41,760 INFO: b: y~v0+W3+W1+W4+v0*W2+v0*W0\n",
      "2025-08-21 14:54:41,832 INFO: b: y~v0+W3+W1+W4+v0*W2+v0*W0\n",
      "2025-08-21 14:54:41,905 INFO: b: y~v0+W3+W1+W4+v0*W2+v0*W0\n",
      "2025-08-21 14:54:41,978 INFO: b: y~v0+W3+W1+W4+v0*W2+v0*W0\n",
      "2025-08-21 14:54:42,052 INFO: b: y~v0+W3+W1+W4+v0*W2+v0*W0\n",
      "2025-08-21 14:54:42,126 INFO: b: y~v0+W3+W1+W4+v0*W2+v0*W0\n",
      "2025-08-21 14:54:42,201 INFO: b: y~v0+W3+W1+W4+v0*W2+v0*W0\n",
      "2025-08-21 14:54:42,274 INFO: b: y~v0+W3+W1+W4+v0*W2+v0*W0\n",
      "2025-08-21 14:54:42,347 INFO: b: y~v0+W3+W1+W4+v0*W2+v0*W0\n",
      "2025-08-21 14:54:42,422 INFO: b: y~v0+W3+W1+W4+v0*W2+v0*W0\n",
      "2025-08-21 14:54:42,498 INFO: b: y~v0+W3+W1+W4+v0*W2+v0*W0\n",
      "2025-08-21 14:54:42,571 INFO: b: y~v0+W3+W1+W4+v0*W2+v0*W0\n",
      "2025-08-21 14:54:42,645 INFO: b: y~v0+W3+W1+W4+v0*W2+v0*W0\n",
      "2025-08-21 14:54:42,718 INFO: b: y~v0+W3+W1+W4+v0*W2+v0*W0\n",
      "2025-08-21 14:54:42,792 INFO: b: y~v0+W3+W1+W4+v0*W2+v0*W0\n",
      "2025-08-21 14:54:42,865 INFO: b: y~v0+W3+W1+W4+v0*W2+v0*W0\n",
      "2025-08-21 14:54:42,939 INFO: b: y~v0+W3+W1+W4+v0*W2+v0*W0\n",
      "2025-08-21 14:54:43,013 INFO: b: y~v0+W3+W1+W4+v0*W2+v0*W0\n",
      "2025-08-21 14:54:43,088 INFO: b: y~v0+W3+W1+W4+v0*W2+v0*W0\n",
      "2025-08-21 14:54:43,162 INFO: b: y~v0+W3+W1+W4+v0*W2+v0*W0\n",
      "2025-08-21 14:54:43,236 INFO: b: y~v0+W3+W1+W4+v0*W2+v0*W0\n",
      "2025-08-21 14:54:43,308 INFO: b: y~v0+W3+W1+W4+v0*W2+v0*W0\n",
      "2025-08-21 14:54:43,382 INFO: b: y~v0+W3+W1+W4+v0*W2+v0*W0\n",
      "2025-08-21 14:54:43,456 INFO: b: y~v0+W3+W1+W4+v0*W2+v0*W0\n",
      "2025-08-21 14:54:43,531 INFO: b: y~v0+W3+W1+W4+v0*W2+v0*W0\n",
      "2025-08-21 14:54:43,606 INFO: b: y~v0+W3+W1+W4+v0*W2+v0*W0\n",
      "2025-08-21 14:54:43,680 INFO: b: y~v0+W3+W1+W4+v0*W2+v0*W0\n",
      "2025-08-21 14:54:43,753 INFO: b: y~v0+W3+W1+W4+v0*W2+v0*W0\n",
      "2025-08-21 14:54:43,827 INFO: b: y~v0+W3+W1+W4+v0*W2+v0*W0\n",
      "2025-08-21 14:54:43,900 INFO: b: y~v0+W3+W1+W4+v0*W2+v0*W0\n",
      "2025-08-21 14:54:43,972 INFO: b: y~v0+W3+W1+W4+v0*W2+v0*W0\n",
      "2025-08-21 14:54:44,046 INFO: b: y~v0+W3+W1+W4+v0*W2+v0*W0\n",
      "2025-08-21 14:54:44,119 INFO: b: y~v0+W3+W1+W4+v0*W2+v0*W0\n",
      "2025-08-21 14:54:44,197 INFO: b: y~v0+W3+W1+W4+v0*W2+v0*W0\n",
      "2025-08-21 14:54:44,269 INFO: b: y~v0+W3+W1+W4+v0*W2+v0*W0\n",
      "2025-08-21 14:54:44,342 INFO: b: y~v0+W3+W1+W4+v0*W2+v0*W0\n",
      "2025-08-21 14:54:44,416 INFO: b: y~v0+W3+W1+W4+v0*W2+v0*W0\n",
      "2025-08-21 14:54:44,490 INFO: b: y~v0+W3+W1+W4+v0*W2+v0*W0\n",
      "2025-08-21 14:54:44,563 INFO: b: y~v0+W3+W1+W4+v0*W2+v0*W0\n",
      "2025-08-21 14:54:44,636 INFO: b: y~v0+W3+W1+W4+v0*W2+v0*W0\n",
      "2025-08-21 14:54:44,710 INFO: b: y~v0+W3+W1+W4+v0*W2+v0*W0\n",
      "2025-08-21 14:54:44,782 INFO: b: y~v0+W3+W1+W4+v0*W2+v0*W0\n",
      "2025-08-21 14:54:44,856 INFO: b: y~v0+W3+W1+W4+v0*W2+v0*W0\n",
      "2025-08-21 14:54:44,929 INFO: b: y~v0+W3+W1+W4+v0*W2+v0*W0\n",
      "2025-08-21 14:54:45,001 INFO: b: y~v0+W3+W1+W4+v0*W2+v0*W0\n",
      "2025-08-21 14:54:45,074 INFO: b: y~v0+W3+W1+W4+v0*W2+v0*W0\n",
      "2025-08-21 14:54:45,147 INFO: b: y~v0+W3+W1+W4+v0*W2+v0*W0\n",
      "2025-08-21 14:54:45,221 INFO: b: y~v0+W3+W1+W4+v0*W2+v0*W0\n",
      "2025-08-21 14:54:45,295 INFO: b: y~v0+W3+W1+W4+v0*W2+v0*W0\n",
      "2025-08-21 14:54:45,370 INFO: b: y~v0+W3+W1+W4+v0*W2+v0*W0\n",
      "2025-08-21 14:54:45,444 INFO: b: y~v0+W3+W1+W4+v0*W2+v0*W0\n",
      "2025-08-21 14:54:45,517 INFO: b: y~v0+W3+W1+W4+v0*W2+v0*W0\n",
      "2025-08-21 14:54:45,590 INFO: b: y~v0+W3+W1+W4+v0*W2+v0*W0\n",
      "2025-08-21 14:54:45,664 INFO: b: y~v0+W3+W1+W4+v0*W2+v0*W0\n",
      "2025-08-21 14:54:45,737 INFO: b: y~v0+W3+W1+W4+v0*W2+v0*W0\n",
      "2025-08-21 14:54:45,811 INFO: b: y~v0+W3+W1+W4+v0*W2+v0*W0\n",
      "2025-08-21 14:54:45,883 INFO: b: y~v0+W3+W1+W4+v0*W2+v0*W0\n",
      "2025-08-21 14:54:45,959 INFO: b: y~v0+W3+W1+W4+v0*W2+v0*W0\n",
      "2025-08-21 14:54:46,033 INFO: b: y~v0+W3+W1+W4+v0*W2+v0*W0\n",
      "2025-08-21 14:54:46,107 INFO: b: y~v0+W3+W1+W4+v0*W2+v0*W0\n",
      "2025-08-21 14:54:46,182 INFO: b: y~v0+W3+W1+W4+v0*W2+v0*W0\n",
      "2025-08-21 14:54:46,255 INFO: b: y~v0+W3+W1+W4+v0*W2+v0*W0\n",
      "2025-08-21 14:54:46,328 INFO: b: y~v0+W3+W1+W4+v0*W2+v0*W0\n",
      "2025-08-21 14:54:46,401 INFO: b: y~v0+W3+W1+W4+v0*W2+v0*W0\n",
      "2025-08-21 14:54:46,476 INFO: b: y~v0+W3+W1+W4+v0*W2+v0*W0\n",
      "2025-08-21 14:54:46,549 INFO: b: y~v0+W3+W1+W4+v0*W2+v0*W0\n",
      "2025-08-21 14:54:46,624 INFO: b: y~v0+W3+W1+W4+v0*W2+v0*W0\n",
      "2025-08-21 14:54:46,698 INFO: b: y~v0+W3+W1+W4+v0*W2+v0*W0\n",
      "2025-08-21 14:54:46,772 INFO: b: y~v0+W3+W1+W4+v0*W2+v0*W0\n",
      "2025-08-21 14:54:46,845 INFO: b: y~v0+W3+W1+W4+v0*W2+v0*W0\n",
      "2025-08-21 14:54:46,920 INFO: b: y~v0+W3+W1+W4+v0*W2+v0*W0\n",
      "2025-08-21 14:54:46,994 INFO: b: y~v0+W3+W1+W4+v0*W2+v0*W0\n",
      "2025-08-21 14:54:47,068 INFO: b: y~v0+W3+W1+W4+v0*W2+v0*W0\n",
      "2025-08-21 14:54:47,143 INFO: b: y~v0+W3+W1+W4+v0*W2+v0*W0\n",
      "2025-08-21 14:54:47,217 INFO: b: y~v0+W3+W1+W4+v0*W2+v0*W0\n",
      "2025-08-21 14:54:47,293 INFO: b: y~v0+W3+W1+W4+v0*W2+v0*W0\n",
      "2025-08-21 14:54:47,367 INFO: b: y~v0+W3+W1+W4+v0*W2+v0*W0\n",
      "2025-08-21 14:54:47,442 INFO: b: y~v0+W3+W1+W4+v0*W2+v0*W0\n",
      "2025-08-21 14:54:47,515 INFO: b: y~v0+W3+W1+W4+v0*W2+v0*W0\n",
      "2025-08-21 14:54:47,589 INFO: b: y~v0+W3+W1+W4+v0*W2+v0*W0\n",
      "2025-08-21 14:54:47,663 INFO: b: y~v0+W3+W1+W4+v0*W2+v0*W0\n",
      "2025-08-21 14:54:47,737 INFO: b: y~v0+W3+W1+W4+v0*W2+v0*W0\n",
      "2025-08-21 14:54:47,813 INFO: b: y~v0+W3+W1+W4+v0*W2+v0*W0\n",
      "2025-08-21 14:54:47,888 INFO: b: y~v0+W3+W1+W4+v0*W2+v0*W0\n",
      "2025-08-21 14:54:47,963 INFO: b: y~v0+W3+W1+W4+v0*W2+v0*W0\n",
      "2025-08-21 14:54:48,037 INFO: b: y~v0+W3+W1+W4+v0*W2+v0*W0\n",
      "2025-08-21 14:54:48,111 INFO: b: y~v0+W3+W1+W4+v0*W2+v0*W0\n",
      "2025-08-21 14:54:48,183 INFO: b: y~v0+W3+W1+W4+v0*W2+v0*W0\n",
      "2025-08-21 14:54:48,256 INFO: b: y~v0+W3+W1+W4+v0*W2+v0*W0\n",
      "2025-08-21 14:54:48,330 INFO: b: y~v0+W3+W1+W4+v0*W2+v0*W0\n",
      "2025-08-21 14:54:48,404 INFO: b: y~v0+W3+W1+W4+v0*W2+v0*W0\n",
      "2025-08-21 14:54:48,478 INFO: b: y~v0+W3+W1+W4+v0*W2+v0*W0\n",
      "2025-08-21 14:54:48,554 INFO: b: y~v0+W3+W1+W4+v0*W2+v0*W0\n",
      "2025-08-21 14:54:48,629 INFO: b: y~v0+W3+W1+W4+v0*W2+v0*W0\n",
      "2025-08-21 14:54:48,704 INFO: b: y~v0+W3+W1+W4+v0*W2+v0*W0\n",
      "2025-08-21 14:54:48,779 INFO: b: y~v0+W3+W1+W4+v0*W2+v0*W0\n",
      "2025-08-21 14:54:48,853 INFO: b: y~v0+W3+W1+W4+v0*W2+v0*W0\n",
      "2025-08-21 14:54:48,925 INFO: b: y~v0+W3+W1+W4+v0*W2+v0*W0\n",
      "2025-08-21 14:54:49,021 INFO: b: y~v0+W3+W1+W4+v0*W2+v0*W0\n",
      "2025-08-21 14:54:49,094 INFO: b: y~v0+W3+W1+W4+v0*W2+v0*W0\n",
      "2025-08-21 14:54:49,172 INFO: b: y~v0+W3+W1+W4+v0*W2+v0*W0\n",
      "2025-08-21 14:54:49,246 INFO: b: y~v0+W3+W1+W4+v0*W2+v0*W0\n",
      "2025-08-21 14:54:49,320 INFO: b: y~v0+W3+W1+W4+v0*W2+v0*W0\n",
      "2025-08-21 14:54:49,392 INFO: b: y~v0+W3+W1+W4+v0*W2+v0*W0\n",
      "2025-08-21 14:54:49,465 INFO: b: y~v0+W3+W1+W4+v0*W2+v0*W0\n",
      "2025-08-21 14:54:49,537 INFO: b: y~v0+W3+W1+W4+v0*W2+v0*W0\n",
      "2025-08-21 14:54:49,611 INFO: b: y~v0+W3+W1+W4+v0*W2+v0*W0\n",
      "2025-08-21 14:54:49,684 INFO: b: y~v0+W3+W1+W4+v0*W2+v0*W0\n",
      "2025-08-21 14:54:49,758 INFO: b: y~v0+W3+W1+W4+v0*W2+v0*W0\n",
      "2025-08-21 14:54:49,833 INFO: b: y~v0+W3+W1+W4+v0*W2+v0*W0\n",
      "2025-08-21 14:54:49,904 INFO: Note that it is ok for your treatment to be a continuous variable, DoWhy automatically discretizes at the backend.\n"
     ]
    },
    {
     "data": {
      "text/plain": [
       "<dowhy.causal_estimator.CausalEstimate at 0x164a84690>"
      ]
     },
     "execution_count": 17,
     "metadata": {},
     "output_type": "execute_result"
    }
   ],
   "source": [
    "causal_module_loaded.estimate_effect(ctrl_val=control_value, trtm_val=treatment_value)"
   ]
  },
  {
   "cell_type": "markdown",
   "id": "dbda7ef0",
   "metadata": {},
   "source": [
    "Similar to graphical refutation, it is always good practice to validate the resulting estimate using robustness tests as well."
   ]
  },
  {
   "cell_type": "code",
   "execution_count": 18,
   "id": "bbfab50b",
   "metadata": {},
   "outputs": [
    {
     "name": "stderr",
     "output_type": "stream",
     "text": [
      "2025-08-21 14:54:49,910 INFO: Refuting the estimated effect of the treatment on the outcome variable\n",
      "2025-08-21 14:54:49,912 INFO: Refutation over 100 simulated datasets of PlaceboType.PERMUTE treatment\n",
      "2025-08-21 14:54:49,918 INFO: b: y~placebo+W3+W1+W4+placebo*W2+placebo*W0\n",
      "2025-08-21 14:54:49,995 INFO: b: y~placebo+W3+W1+W4+placebo*W2+placebo*W0\n",
      "2025-08-21 14:54:50,069 INFO: b: y~placebo+W3+W1+W4+placebo*W2+placebo*W0\n",
      "2025-08-21 14:54:50,143 INFO: b: y~placebo+W3+W1+W4+placebo*W2+placebo*W0\n",
      "2025-08-21 14:54:50,217 INFO: b: y~placebo+W3+W1+W4+placebo*W2+placebo*W0\n",
      "2025-08-21 14:54:50,290 INFO: b: y~placebo+W3+W1+W4+placebo*W2+placebo*W0\n",
      "2025-08-21 14:54:50,361 INFO: b: y~placebo+W3+W1+W4+placebo*W2+placebo*W0\n",
      "2025-08-21 14:54:50,434 INFO: b: y~placebo+W3+W1+W4+placebo*W2+placebo*W0\n",
      "2025-08-21 14:54:50,507 INFO: b: y~placebo+W3+W1+W4+placebo*W2+placebo*W0\n",
      "2025-08-21 14:54:50,580 INFO: b: y~placebo+W3+W1+W4+placebo*W2+placebo*W0\n",
      "2025-08-21 14:54:50,651 INFO: b: y~placebo+W3+W1+W4+placebo*W2+placebo*W0\n",
      "2025-08-21 14:54:50,724 INFO: b: y~placebo+W3+W1+W4+placebo*W2+placebo*W0\n",
      "2025-08-21 14:54:50,801 INFO: b: y~placebo+W3+W1+W4+placebo*W2+placebo*W0\n",
      "2025-08-21 14:54:50,873 INFO: b: y~placebo+W3+W1+W4+placebo*W2+placebo*W0\n",
      "2025-08-21 14:54:50,946 INFO: b: y~placebo+W3+W1+W4+placebo*W2+placebo*W0\n",
      "2025-08-21 14:54:51,018 INFO: b: y~placebo+W3+W1+W4+placebo*W2+placebo*W0\n",
      "2025-08-21 14:54:51,092 INFO: b: y~placebo+W3+W1+W4+placebo*W2+placebo*W0\n",
      "2025-08-21 14:54:51,167 INFO: b: y~placebo+W3+W1+W4+placebo*W2+placebo*W0\n",
      "2025-08-21 14:54:51,241 INFO: b: y~placebo+W3+W1+W4+placebo*W2+placebo*W0\n",
      "2025-08-21 14:54:51,313 INFO: b: y~placebo+W3+W1+W4+placebo*W2+placebo*W0\n",
      "2025-08-21 14:54:51,384 INFO: b: y~placebo+W3+W1+W4+placebo*W2+placebo*W0\n",
      "2025-08-21 14:54:51,459 INFO: b: y~placebo+W3+W1+W4+placebo*W2+placebo*W0\n",
      "2025-08-21 14:54:51,532 INFO: b: y~placebo+W3+W1+W4+placebo*W2+placebo*W0\n",
      "2025-08-21 14:54:51,604 INFO: b: y~placebo+W3+W1+W4+placebo*W2+placebo*W0\n",
      "2025-08-21 14:54:51,699 INFO: b: y~placebo+W3+W1+W4+placebo*W2+placebo*W0\n",
      "2025-08-21 14:54:51,771 INFO: b: y~placebo+W3+W1+W4+placebo*W2+placebo*W0\n",
      "2025-08-21 14:54:51,843 INFO: b: y~placebo+W3+W1+W4+placebo*W2+placebo*W0\n",
      "2025-08-21 14:54:51,916 INFO: b: y~placebo+W3+W1+W4+placebo*W2+placebo*W0\n",
      "2025-08-21 14:54:51,988 INFO: b: y~placebo+W3+W1+W4+placebo*W2+placebo*W0\n",
      "2025-08-21 14:54:52,059 INFO: b: y~placebo+W3+W1+W4+placebo*W2+placebo*W0\n",
      "2025-08-21 14:54:52,131 INFO: b: y~placebo+W3+W1+W4+placebo*W2+placebo*W0\n",
      "2025-08-21 14:54:52,204 INFO: b: y~placebo+W3+W1+W4+placebo*W2+placebo*W0\n",
      "2025-08-21 14:54:52,277 INFO: b: y~placebo+W3+W1+W4+placebo*W2+placebo*W0\n",
      "2025-08-21 14:54:52,349 INFO: b: y~placebo+W3+W1+W4+placebo*W2+placebo*W0\n",
      "2025-08-21 14:54:52,420 INFO: b: y~placebo+W3+W1+W4+placebo*W2+placebo*W0\n",
      "2025-08-21 14:54:52,492 INFO: b: y~placebo+W3+W1+W4+placebo*W2+placebo*W0\n",
      "2025-08-21 14:54:52,562 INFO: b: y~placebo+W3+W1+W4+placebo*W2+placebo*W0\n",
      "2025-08-21 14:54:52,634 INFO: b: y~placebo+W3+W1+W4+placebo*W2+placebo*W0\n",
      "2025-08-21 14:54:52,705 INFO: b: y~placebo+W3+W1+W4+placebo*W2+placebo*W0\n",
      "2025-08-21 14:54:52,775 INFO: b: y~placebo+W3+W1+W4+placebo*W2+placebo*W0\n",
      "2025-08-21 14:54:52,846 INFO: b: y~placebo+W3+W1+W4+placebo*W2+placebo*W0\n",
      "2025-08-21 14:54:52,916 INFO: b: y~placebo+W3+W1+W4+placebo*W2+placebo*W0\n",
      "2025-08-21 14:54:52,988 INFO: b: y~placebo+W3+W1+W4+placebo*W2+placebo*W0\n",
      "2025-08-21 14:54:53,064 INFO: b: y~placebo+W3+W1+W4+placebo*W2+placebo*W0\n",
      "2025-08-21 14:54:53,142 INFO: b: y~placebo+W3+W1+W4+placebo*W2+placebo*W0\n",
      "2025-08-21 14:54:53,214 INFO: b: y~placebo+W3+W1+W4+placebo*W2+placebo*W0\n",
      "2025-08-21 14:54:53,284 INFO: b: y~placebo+W3+W1+W4+placebo*W2+placebo*W0\n",
      "2025-08-21 14:54:53,355 INFO: b: y~placebo+W3+W1+W4+placebo*W2+placebo*W0\n",
      "2025-08-21 14:54:53,425 INFO: b: y~placebo+W3+W1+W4+placebo*W2+placebo*W0\n",
      "2025-08-21 14:54:53,497 INFO: b: y~placebo+W3+W1+W4+placebo*W2+placebo*W0\n",
      "2025-08-21 14:54:53,567 INFO: b: y~placebo+W3+W1+W4+placebo*W2+placebo*W0\n",
      "2025-08-21 14:54:53,638 INFO: b: y~placebo+W3+W1+W4+placebo*W2+placebo*W0\n",
      "2025-08-21 14:54:53,709 INFO: b: y~placebo+W3+W1+W4+placebo*W2+placebo*W0\n",
      "2025-08-21 14:54:53,782 INFO: b: y~placebo+W3+W1+W4+placebo*W2+placebo*W0\n",
      "2025-08-21 14:54:53,855 INFO: b: y~placebo+W3+W1+W4+placebo*W2+placebo*W0\n",
      "2025-08-21 14:54:53,926 INFO: b: y~placebo+W3+W1+W4+placebo*W2+placebo*W0\n",
      "2025-08-21 14:54:53,998 INFO: b: y~placebo+W3+W1+W4+placebo*W2+placebo*W0\n",
      "2025-08-21 14:54:54,069 INFO: b: y~placebo+W3+W1+W4+placebo*W2+placebo*W0\n",
      "2025-08-21 14:54:54,140 INFO: b: y~placebo+W3+W1+W4+placebo*W2+placebo*W0\n",
      "2025-08-21 14:54:54,210 INFO: b: y~placebo+W3+W1+W4+placebo*W2+placebo*W0\n",
      "2025-08-21 14:54:54,280 INFO: b: y~placebo+W3+W1+W4+placebo*W2+placebo*W0\n",
      "2025-08-21 14:54:54,349 INFO: b: y~placebo+W3+W1+W4+placebo*W2+placebo*W0\n",
      "2025-08-21 14:54:54,422 INFO: b: y~placebo+W3+W1+W4+placebo*W2+placebo*W0\n",
      "2025-08-21 14:54:54,491 INFO: b: y~placebo+W3+W1+W4+placebo*W2+placebo*W0\n",
      "2025-08-21 14:54:54,563 INFO: b: y~placebo+W3+W1+W4+placebo*W2+placebo*W0\n",
      "2025-08-21 14:54:54,634 INFO: b: y~placebo+W3+W1+W4+placebo*W2+placebo*W0\n",
      "2025-08-21 14:54:54,706 INFO: b: y~placebo+W3+W1+W4+placebo*W2+placebo*W0\n",
      "2025-08-21 14:54:54,778 INFO: b: y~placebo+W3+W1+W4+placebo*W2+placebo*W0\n",
      "2025-08-21 14:54:54,848 INFO: b: y~placebo+W3+W1+W4+placebo*W2+placebo*W0\n",
      "2025-08-21 14:54:54,919 INFO: b: y~placebo+W3+W1+W4+placebo*W2+placebo*W0\n",
      "2025-08-21 14:54:54,989 INFO: b: y~placebo+W3+W1+W4+placebo*W2+placebo*W0\n",
      "2025-08-21 14:54:55,061 INFO: b: y~placebo+W3+W1+W4+placebo*W2+placebo*W0\n",
      "2025-08-21 14:54:55,131 INFO: b: y~placebo+W3+W1+W4+placebo*W2+placebo*W0\n",
      "2025-08-21 14:54:55,202 INFO: b: y~placebo+W3+W1+W4+placebo*W2+placebo*W0\n",
      "2025-08-21 14:54:55,274 INFO: b: y~placebo+W3+W1+W4+placebo*W2+placebo*W0\n",
      "2025-08-21 14:54:55,345 INFO: b: y~placebo+W3+W1+W4+placebo*W2+placebo*W0\n",
      "2025-08-21 14:54:55,417 INFO: b: y~placebo+W3+W1+W4+placebo*W2+placebo*W0\n",
      "2025-08-21 14:54:55,489 INFO: b: y~placebo+W3+W1+W4+placebo*W2+placebo*W0\n",
      "2025-08-21 14:54:55,560 INFO: b: y~placebo+W3+W1+W4+placebo*W2+placebo*W0\n",
      "2025-08-21 14:54:55,631 INFO: b: y~placebo+W3+W1+W4+placebo*W2+placebo*W0\n",
      "2025-08-21 14:54:55,701 INFO: b: y~placebo+W3+W1+W4+placebo*W2+placebo*W0\n",
      "2025-08-21 14:54:55,771 INFO: b: y~placebo+W3+W1+W4+placebo*W2+placebo*W0\n",
      "2025-08-21 14:54:55,843 INFO: b: y~placebo+W3+W1+W4+placebo*W2+placebo*W0\n",
      "2025-08-21 14:54:55,914 INFO: b: y~placebo+W3+W1+W4+placebo*W2+placebo*W0\n",
      "2025-08-21 14:54:55,984 INFO: b: y~placebo+W3+W1+W4+placebo*W2+placebo*W0\n",
      "2025-08-21 14:54:56,055 INFO: b: y~placebo+W3+W1+W4+placebo*W2+placebo*W0\n",
      "2025-08-21 14:54:56,125 INFO: b: y~placebo+W3+W1+W4+placebo*W2+placebo*W0\n",
      "2025-08-21 14:54:56,196 INFO: b: y~placebo+W3+W1+W4+placebo*W2+placebo*W0\n",
      "2025-08-21 14:54:56,269 INFO: b: y~placebo+W3+W1+W4+placebo*W2+placebo*W0\n",
      "2025-08-21 14:54:56,342 INFO: b: y~placebo+W3+W1+W4+placebo*W2+placebo*W0\n",
      "2025-08-21 14:54:56,414 INFO: b: y~placebo+W3+W1+W4+placebo*W2+placebo*W0\n",
      "2025-08-21 14:54:56,488 INFO: b: y~placebo+W3+W1+W4+placebo*W2+placebo*W0\n",
      "2025-08-21 14:54:56,563 INFO: b: y~placebo+W3+W1+W4+placebo*W2+placebo*W0\n",
      "2025-08-21 14:54:56,635 INFO: b: y~placebo+W3+W1+W4+placebo*W2+placebo*W0\n",
      "2025-08-21 14:54:56,706 INFO: b: y~placebo+W3+W1+W4+placebo*W2+placebo*W0\n",
      "2025-08-21 14:54:56,779 INFO: b: y~placebo+W3+W1+W4+placebo*W2+placebo*W0\n",
      "2025-08-21 14:54:56,849 INFO: b: y~placebo+W3+W1+W4+placebo*W2+placebo*W0\n",
      "2025-08-21 14:54:56,920 INFO: b: y~placebo+W3+W1+W4+placebo*W2+placebo*W0\n",
      "2025-08-21 14:54:56,994 INFO: b: y~placebo+W3+W1+W4+placebo*W2+placebo*W0\n",
      "2025-08-21 14:54:57,066 INFO: b: y~placebo+W3+W1+W4+placebo*W2+placebo*W0\n",
      "2025-08-21 14:54:57,136 INFO: Making use of Bootstrap as we have more than 100 examples.\n",
      "             Note: The greater the number of examples, the more accurate are the confidence estimates\n",
      "2025-08-21 14:54:57,137 INFO: Refutation over 100 simulated datasets, each with a random common cause added\n",
      "2025-08-21 14:54:57,141 INFO: b: y~v0+W3+W1+W4+w_random+v0*W2+v0*W0\n",
      "2025-08-21 14:54:57,214 INFO: b: y~v0+W3+W1+W4+w_random+v0*W2+v0*W0\n",
      "2025-08-21 14:54:57,284 INFO: b: y~v0+W3+W1+W4+w_random+v0*W2+v0*W0\n",
      "2025-08-21 14:54:57,357 INFO: b: y~v0+W3+W1+W4+w_random+v0*W2+v0*W0\n",
      "2025-08-21 14:54:57,442 INFO: b: y~v0+W3+W1+W4+w_random+v0*W2+v0*W0\n",
      "2025-08-21 14:54:57,531 INFO: b: y~v0+W3+W1+W4+w_random+v0*W2+v0*W0\n",
      "2025-08-21 14:54:57,603 INFO: b: y~v0+W3+W1+W4+w_random+v0*W2+v0*W0\n",
      "2025-08-21 14:54:57,676 INFO: b: y~v0+W3+W1+W4+w_random+v0*W2+v0*W0\n",
      "2025-08-21 14:54:57,761 INFO: b: y~v0+W3+W1+W4+w_random+v0*W2+v0*W0\n",
      "2025-08-21 14:54:57,835 INFO: b: y~v0+W3+W1+W4+w_random+v0*W2+v0*W0\n",
      "2025-08-21 14:54:57,909 INFO: b: y~v0+W3+W1+W4+w_random+v0*W2+v0*W0\n",
      "2025-08-21 14:54:57,983 INFO: b: y~v0+W3+W1+W4+w_random+v0*W2+v0*W0\n",
      "2025-08-21 14:54:58,056 INFO: b: y~v0+W3+W1+W4+w_random+v0*W2+v0*W0\n",
      "2025-08-21 14:54:58,130 INFO: b: y~v0+W3+W1+W4+w_random+v0*W2+v0*W0\n",
      "2025-08-21 14:54:58,206 INFO: b: y~v0+W3+W1+W4+w_random+v0*W2+v0*W0\n",
      "2025-08-21 14:54:58,283 INFO: b: y~v0+W3+W1+W4+w_random+v0*W2+v0*W0\n",
      "2025-08-21 14:54:58,363 INFO: b: y~v0+W3+W1+W4+w_random+v0*W2+v0*W0\n",
      "2025-08-21 14:54:58,440 INFO: b: y~v0+W3+W1+W4+w_random+v0*W2+v0*W0\n",
      "2025-08-21 14:54:58,511 INFO: b: y~v0+W3+W1+W4+w_random+v0*W2+v0*W0\n",
      "2025-08-21 14:54:58,586 INFO: b: y~v0+W3+W1+W4+w_random+v0*W2+v0*W0\n",
      "2025-08-21 14:54:58,661 INFO: b: y~v0+W3+W1+W4+w_random+v0*W2+v0*W0\n",
      "2025-08-21 14:54:58,736 INFO: b: y~v0+W3+W1+W4+w_random+v0*W2+v0*W0\n",
      "2025-08-21 14:54:58,809 INFO: b: y~v0+W3+W1+W4+w_random+v0*W2+v0*W0\n",
      "2025-08-21 14:54:58,883 INFO: b: y~v0+W3+W1+W4+w_random+v0*W2+v0*W0\n",
      "2025-08-21 14:54:58,954 INFO: b: y~v0+W3+W1+W4+w_random+v0*W2+v0*W0\n",
      "2025-08-21 14:54:59,027 INFO: b: y~v0+W3+W1+W4+w_random+v0*W2+v0*W0\n",
      "2025-08-21 14:54:59,101 INFO: b: y~v0+W3+W1+W4+w_random+v0*W2+v0*W0\n",
      "2025-08-21 14:54:59,174 INFO: b: y~v0+W3+W1+W4+w_random+v0*W2+v0*W0\n",
      "2025-08-21 14:54:59,248 INFO: b: y~v0+W3+W1+W4+w_random+v0*W2+v0*W0\n",
      "2025-08-21 14:54:59,322 INFO: b: y~v0+W3+W1+W4+w_random+v0*W2+v0*W0\n",
      "2025-08-21 14:54:59,396 INFO: b: y~v0+W3+W1+W4+w_random+v0*W2+v0*W0\n",
      "2025-08-21 14:54:59,471 INFO: b: y~v0+W3+W1+W4+w_random+v0*W2+v0*W0\n",
      "2025-08-21 14:54:59,550 INFO: b: y~v0+W3+W1+W4+w_random+v0*W2+v0*W0\n",
      "2025-08-21 14:54:59,629 INFO: b: y~v0+W3+W1+W4+w_random+v0*W2+v0*W0\n",
      "2025-08-21 14:54:59,704 INFO: b: y~v0+W3+W1+W4+w_random+v0*W2+v0*W0\n",
      "2025-08-21 14:54:59,777 INFO: b: y~v0+W3+W1+W4+w_random+v0*W2+v0*W0\n",
      "2025-08-21 14:54:59,849 INFO: b: y~v0+W3+W1+W4+w_random+v0*W2+v0*W0\n",
      "2025-08-21 14:54:59,920 INFO: b: y~v0+W3+W1+W4+w_random+v0*W2+v0*W0\n",
      "2025-08-21 14:54:59,995 INFO: b: y~v0+W3+W1+W4+w_random+v0*W2+v0*W0\n",
      "2025-08-21 14:55:00,067 INFO: b: y~v0+W3+W1+W4+w_random+v0*W2+v0*W0\n",
      "2025-08-21 14:55:00,142 INFO: b: y~v0+W3+W1+W4+w_random+v0*W2+v0*W0\n",
      "2025-08-21 14:55:00,215 INFO: b: y~v0+W3+W1+W4+w_random+v0*W2+v0*W0\n",
      "2025-08-21 14:55:00,288 INFO: b: y~v0+W3+W1+W4+w_random+v0*W2+v0*W0\n",
      "2025-08-21 14:55:00,363 INFO: b: y~v0+W3+W1+W4+w_random+v0*W2+v0*W0\n",
      "2025-08-21 14:55:00,435 INFO: b: y~v0+W3+W1+W4+w_random+v0*W2+v0*W0\n",
      "2025-08-21 14:55:00,509 INFO: b: y~v0+W3+W1+W4+w_random+v0*W2+v0*W0\n",
      "2025-08-21 14:55:00,580 INFO: b: y~v0+W3+W1+W4+w_random+v0*W2+v0*W0\n",
      "2025-08-21 14:55:00,652 INFO: b: y~v0+W3+W1+W4+w_random+v0*W2+v0*W0\n",
      "2025-08-21 14:55:00,723 INFO: b: y~v0+W3+W1+W4+w_random+v0*W2+v0*W0\n",
      "2025-08-21 14:55:00,797 INFO: b: y~v0+W3+W1+W4+w_random+v0*W2+v0*W0\n",
      "2025-08-21 14:55:00,868 INFO: b: y~v0+W3+W1+W4+w_random+v0*W2+v0*W0\n",
      "2025-08-21 14:55:00,941 INFO: b: y~v0+W3+W1+W4+w_random+v0*W2+v0*W0\n",
      "2025-08-21 14:55:01,013 INFO: b: y~v0+W3+W1+W4+w_random+v0*W2+v0*W0\n",
      "2025-08-21 14:55:01,085 INFO: b: y~v0+W3+W1+W4+w_random+v0*W2+v0*W0\n",
      "2025-08-21 14:55:01,158 INFO: b: y~v0+W3+W1+W4+w_random+v0*W2+v0*W0\n",
      "2025-08-21 14:55:01,230 INFO: b: y~v0+W3+W1+W4+w_random+v0*W2+v0*W0\n",
      "2025-08-21 14:55:01,302 INFO: b: y~v0+W3+W1+W4+w_random+v0*W2+v0*W0\n",
      "2025-08-21 14:55:01,374 INFO: b: y~v0+W3+W1+W4+w_random+v0*W2+v0*W0\n",
      "2025-08-21 14:55:01,445 INFO: b: y~v0+W3+W1+W4+w_random+v0*W2+v0*W0\n",
      "2025-08-21 14:55:01,517 INFO: b: y~v0+W3+W1+W4+w_random+v0*W2+v0*W0\n",
      "2025-08-21 14:55:01,590 INFO: b: y~v0+W3+W1+W4+w_random+v0*W2+v0*W0\n",
      "2025-08-21 14:55:01,684 INFO: b: y~v0+W3+W1+W4+w_random+v0*W2+v0*W0\n",
      "2025-08-21 14:55:01,754 INFO: b: y~v0+W3+W1+W4+w_random+v0*W2+v0*W0\n",
      "2025-08-21 14:55:01,828 INFO: b: y~v0+W3+W1+W4+w_random+v0*W2+v0*W0\n",
      "2025-08-21 14:55:01,898 INFO: b: y~v0+W3+W1+W4+w_random+v0*W2+v0*W0\n",
      "2025-08-21 14:55:01,969 INFO: b: y~v0+W3+W1+W4+w_random+v0*W2+v0*W0\n",
      "2025-08-21 14:55:02,042 INFO: b: y~v0+W3+W1+W4+w_random+v0*W2+v0*W0\n",
      "2025-08-21 14:55:02,113 INFO: b: y~v0+W3+W1+W4+w_random+v0*W2+v0*W0\n",
      "2025-08-21 14:55:02,184 INFO: b: y~v0+W3+W1+W4+w_random+v0*W2+v0*W0\n",
      "2025-08-21 14:55:02,255 INFO: b: y~v0+W3+W1+W4+w_random+v0*W2+v0*W0\n",
      "2025-08-21 14:55:02,328 INFO: b: y~v0+W3+W1+W4+w_random+v0*W2+v0*W0\n",
      "2025-08-21 14:55:02,400 INFO: b: y~v0+W3+W1+W4+w_random+v0*W2+v0*W0\n",
      "2025-08-21 14:55:02,473 INFO: b: y~v0+W3+W1+W4+w_random+v0*W2+v0*W0\n",
      "2025-08-21 14:55:02,547 INFO: b: y~v0+W3+W1+W4+w_random+v0*W2+v0*W0\n",
      "2025-08-21 14:55:02,621 INFO: b: y~v0+W3+W1+W4+w_random+v0*W2+v0*W0\n",
      "2025-08-21 14:55:02,694 INFO: b: y~v0+W3+W1+W4+w_random+v0*W2+v0*W0\n",
      "2025-08-21 14:55:02,765 INFO: b: y~v0+W3+W1+W4+w_random+v0*W2+v0*W0\n",
      "2025-08-21 14:55:02,837 INFO: b: y~v0+W3+W1+W4+w_random+v0*W2+v0*W0\n",
      "2025-08-21 14:55:02,909 INFO: b: y~v0+W3+W1+W4+w_random+v0*W2+v0*W0\n",
      "2025-08-21 14:55:02,983 INFO: b: y~v0+W3+W1+W4+w_random+v0*W2+v0*W0\n",
      "2025-08-21 14:55:03,057 INFO: b: y~v0+W3+W1+W4+w_random+v0*W2+v0*W0\n",
      "2025-08-21 14:55:03,130 INFO: b: y~v0+W3+W1+W4+w_random+v0*W2+v0*W0\n",
      "2025-08-21 14:55:03,202 INFO: b: y~v0+W3+W1+W4+w_random+v0*W2+v0*W0\n",
      "2025-08-21 14:55:03,275 INFO: b: y~v0+W3+W1+W4+w_random+v0*W2+v0*W0\n",
      "2025-08-21 14:55:03,349 INFO: b: y~v0+W3+W1+W4+w_random+v0*W2+v0*W0\n",
      "2025-08-21 14:55:03,421 INFO: b: y~v0+W3+W1+W4+w_random+v0*W2+v0*W0\n",
      "2025-08-21 14:55:03,493 INFO: b: y~v0+W3+W1+W4+w_random+v0*W2+v0*W0\n",
      "2025-08-21 14:55:03,566 INFO: b: y~v0+W3+W1+W4+w_random+v0*W2+v0*W0\n",
      "2025-08-21 14:55:03,638 INFO: b: y~v0+W3+W1+W4+w_random+v0*W2+v0*W0\n",
      "2025-08-21 14:55:03,710 INFO: b: y~v0+W3+W1+W4+w_random+v0*W2+v0*W0\n",
      "2025-08-21 14:55:03,783 INFO: b: y~v0+W3+W1+W4+w_random+v0*W2+v0*W0\n",
      "2025-08-21 14:55:03,855 INFO: b: y~v0+W3+W1+W4+w_random+v0*W2+v0*W0\n",
      "2025-08-21 14:55:03,928 INFO: b: y~v0+W3+W1+W4+w_random+v0*W2+v0*W0\n",
      "2025-08-21 14:55:04,000 INFO: b: y~v0+W3+W1+W4+w_random+v0*W2+v0*W0\n",
      "2025-08-21 14:55:04,071 INFO: b: y~v0+W3+W1+W4+w_random+v0*W2+v0*W0\n",
      "2025-08-21 14:55:04,143 INFO: b: y~v0+W3+W1+W4+w_random+v0*W2+v0*W0\n",
      "2025-08-21 14:55:04,217 INFO: b: y~v0+W3+W1+W4+w_random+v0*W2+v0*W0\n",
      "2025-08-21 14:55:04,288 INFO: b: y~v0+W3+W1+W4+w_random+v0*W2+v0*W0\n",
      "2025-08-21 14:55:04,361 INFO: b: y~v0+W3+W1+W4+w_random+v0*W2+v0*W0\n",
      "2025-08-21 14:55:04,431 INFO: b: y~v0+W3+W1+W4+w_random+v0*W2+v0*W0\n",
      "2025-08-21 14:55:04,501 INFO: Making use of Bootstrap as we have more than 100 examples.\n",
      "             Note: The greater the number of examples, the more accurate are the confidence estimates\n",
      "2025-08-21 14:55:04,501 INFO: Refutation over 0.9 simulated datasets of size 9000.0 each\n",
      "2025-08-21 14:55:04,504 INFO: b: y~v0+W3+W1+W4+v0*W2+v0*W0\n",
      "2025-08-21 14:55:04,578 INFO: b: y~v0+W3+W1+W4+v0*W2+v0*W0\n",
      "2025-08-21 14:55:04,652 INFO: b: y~v0+W3+W1+W4+v0*W2+v0*W0\n",
      "2025-08-21 14:55:04,726 INFO: b: y~v0+W3+W1+W4+v0*W2+v0*W0\n",
      "2025-08-21 14:55:04,799 INFO: b: y~v0+W3+W1+W4+v0*W2+v0*W0\n",
      "2025-08-21 14:55:04,872 INFO: b: y~v0+W3+W1+W4+v0*W2+v0*W0\n",
      "2025-08-21 14:55:04,946 INFO: b: y~v0+W3+W1+W4+v0*W2+v0*W0\n",
      "2025-08-21 14:55:05,022 INFO: b: y~v0+W3+W1+W4+v0*W2+v0*W0\n",
      "2025-08-21 14:55:05,098 INFO: b: y~v0+W3+W1+W4+v0*W2+v0*W0\n",
      "2025-08-21 14:55:05,172 INFO: b: y~v0+W3+W1+W4+v0*W2+v0*W0\n",
      "2025-08-21 14:55:05,245 INFO: b: y~v0+W3+W1+W4+v0*W2+v0*W0\n",
      "2025-08-21 14:55:05,319 INFO: b: y~v0+W3+W1+W4+v0*W2+v0*W0\n",
      "2025-08-21 14:55:05,391 INFO: b: y~v0+W3+W1+W4+v0*W2+v0*W0\n",
      "2025-08-21 14:55:05,463 INFO: b: y~v0+W3+W1+W4+v0*W2+v0*W0\n",
      "2025-08-21 14:55:05,538 INFO: b: y~v0+W3+W1+W4+v0*W2+v0*W0\n",
      "2025-08-21 14:55:05,611 INFO: b: y~v0+W3+W1+W4+v0*W2+v0*W0\n",
      "2025-08-21 14:55:05,685 INFO: b: y~v0+W3+W1+W4+v0*W2+v0*W0\n",
      "2025-08-21 14:55:05,760 INFO: b: y~v0+W3+W1+W4+v0*W2+v0*W0\n",
      "2025-08-21 14:55:05,834 INFO: b: y~v0+W3+W1+W4+v0*W2+v0*W0\n",
      "2025-08-21 14:55:05,908 INFO: b: y~v0+W3+W1+W4+v0*W2+v0*W0\n",
      "2025-08-21 14:55:05,983 INFO: b: y~v0+W3+W1+W4+v0*W2+v0*W0\n",
      "2025-08-21 14:55:06,057 INFO: b: y~v0+W3+W1+W4+v0*W2+v0*W0\n",
      "2025-08-21 14:55:06,133 INFO: b: y~v0+W3+W1+W4+v0*W2+v0*W0\n",
      "2025-08-21 14:55:06,207 INFO: b: y~v0+W3+W1+W4+v0*W2+v0*W0\n",
      "2025-08-21 14:55:06,283 INFO: b: y~v0+W3+W1+W4+v0*W2+v0*W0\n",
      "2025-08-21 14:55:06,356 INFO: b: y~v0+W3+W1+W4+v0*W2+v0*W0\n",
      "2025-08-21 14:55:06,429 INFO: b: y~v0+W3+W1+W4+v0*W2+v0*W0\n",
      "2025-08-21 14:55:06,501 INFO: b: y~v0+W3+W1+W4+v0*W2+v0*W0\n",
      "2025-08-21 14:55:06,575 INFO: b: y~v0+W3+W1+W4+v0*W2+v0*W0\n",
      "2025-08-21 14:55:06,647 INFO: b: y~v0+W3+W1+W4+v0*W2+v0*W0\n",
      "2025-08-21 14:55:06,724 INFO: b: y~v0+W3+W1+W4+v0*W2+v0*W0\n",
      "2025-08-21 14:55:06,798 INFO: b: y~v0+W3+W1+W4+v0*W2+v0*W0\n",
      "2025-08-21 14:55:06,872 INFO: b: y~v0+W3+W1+W4+v0*W2+v0*W0\n",
      "2025-08-21 14:55:06,948 INFO: b: y~v0+W3+W1+W4+v0*W2+v0*W0\n",
      "2025-08-21 14:55:07,021 INFO: b: y~v0+W3+W1+W4+v0*W2+v0*W0\n",
      "2025-08-21 14:55:07,095 INFO: b: y~v0+W3+W1+W4+v0*W2+v0*W0\n",
      "2025-08-21 14:55:07,169 INFO: b: y~v0+W3+W1+W4+v0*W2+v0*W0\n",
      "2025-08-21 14:55:07,244 INFO: b: y~v0+W3+W1+W4+v0*W2+v0*W0\n",
      "2025-08-21 14:55:07,317 INFO: b: y~v0+W3+W1+W4+v0*W2+v0*W0\n",
      "2025-08-21 14:55:07,391 INFO: b: y~v0+W3+W1+W4+v0*W2+v0*W0\n",
      "2025-08-21 14:55:07,466 INFO: b: y~v0+W3+W1+W4+v0*W2+v0*W0\n",
      "2025-08-21 14:55:07,540 INFO: b: y~v0+W3+W1+W4+v0*W2+v0*W0\n",
      "2025-08-21 14:55:07,616 INFO: b: y~v0+W3+W1+W4+v0*W2+v0*W0\n",
      "2025-08-21 14:55:07,691 INFO: b: y~v0+W3+W1+W4+v0*W2+v0*W0\n",
      "2025-08-21 14:55:07,768 INFO: b: y~v0+W3+W1+W4+v0*W2+v0*W0\n",
      "2025-08-21 14:55:07,842 INFO: b: y~v0+W3+W1+W4+v0*W2+v0*W0\n",
      "2025-08-21 14:55:07,917 INFO: b: y~v0+W3+W1+W4+v0*W2+v0*W0\n",
      "2025-08-21 14:55:07,992 INFO: b: y~v0+W3+W1+W4+v0*W2+v0*W0\n",
      "2025-08-21 14:55:08,064 INFO: b: y~v0+W3+W1+W4+v0*W2+v0*W0\n",
      "2025-08-21 14:55:08,138 INFO: b: y~v0+W3+W1+W4+v0*W2+v0*W0\n",
      "2025-08-21 14:55:08,211 INFO: b: y~v0+W3+W1+W4+v0*W2+v0*W0\n",
      "2025-08-21 14:55:08,284 INFO: b: y~v0+W3+W1+W4+v0*W2+v0*W0\n",
      "2025-08-21 14:55:08,356 INFO: b: y~v0+W3+W1+W4+v0*W2+v0*W0\n",
      "2025-08-21 14:55:08,430 INFO: b: y~v0+W3+W1+W4+v0*W2+v0*W0\n",
      "2025-08-21 14:55:08,503 INFO: b: y~v0+W3+W1+W4+v0*W2+v0*W0\n",
      "2025-08-21 14:55:08,577 INFO: b: y~v0+W3+W1+W4+v0*W2+v0*W0\n",
      "2025-08-21 14:55:08,651 INFO: b: y~v0+W3+W1+W4+v0*W2+v0*W0\n",
      "2025-08-21 14:55:08,724 INFO: b: y~v0+W3+W1+W4+v0*W2+v0*W0\n",
      "2025-08-21 14:55:08,798 INFO: b: y~v0+W3+W1+W4+v0*W2+v0*W0\n",
      "2025-08-21 14:55:08,876 INFO: b: y~v0+W3+W1+W4+v0*W2+v0*W0\n",
      "2025-08-21 14:55:08,950 INFO: b: y~v0+W3+W1+W4+v0*W2+v0*W0\n",
      "2025-08-21 14:55:09,025 INFO: b: y~v0+W3+W1+W4+v0*W2+v0*W0\n",
      "2025-08-21 14:55:09,099 INFO: b: y~v0+W3+W1+W4+v0*W2+v0*W0\n",
      "2025-08-21 14:55:09,172 INFO: b: y~v0+W3+W1+W4+v0*W2+v0*W0\n",
      "2025-08-21 14:55:09,249 INFO: b: y~v0+W3+W1+W4+v0*W2+v0*W0\n",
      "2025-08-21 14:55:09,323 INFO: b: y~v0+W3+W1+W4+v0*W2+v0*W0\n",
      "2025-08-21 14:55:09,398 INFO: b: y~v0+W3+W1+W4+v0*W2+v0*W0\n",
      "2025-08-21 14:55:09,473 INFO: b: y~v0+W3+W1+W4+v0*W2+v0*W0\n",
      "2025-08-21 14:55:09,546 INFO: b: y~v0+W3+W1+W4+v0*W2+v0*W0\n",
      "2025-08-21 14:55:09,622 INFO: b: y~v0+W3+W1+W4+v0*W2+v0*W0\n",
      "2025-08-21 14:55:09,721 INFO: b: y~v0+W3+W1+W4+v0*W2+v0*W0\n",
      "2025-08-21 14:55:09,796 INFO: b: y~v0+W3+W1+W4+v0*W2+v0*W0\n",
      "2025-08-21 14:55:09,872 INFO: b: y~v0+W3+W1+W4+v0*W2+v0*W0\n",
      "2025-08-21 14:55:09,946 INFO: b: y~v0+W3+W1+W4+v0*W2+v0*W0\n",
      "2025-08-21 14:55:10,019 INFO: b: y~v0+W3+W1+W4+v0*W2+v0*W0\n",
      "2025-08-21 14:55:10,094 INFO: b: y~v0+W3+W1+W4+v0*W2+v0*W0\n",
      "2025-08-21 14:55:10,167 INFO: b: y~v0+W3+W1+W4+v0*W2+v0*W0\n",
      "2025-08-21 14:55:10,241 INFO: b: y~v0+W3+W1+W4+v0*W2+v0*W0\n",
      "2025-08-21 14:55:10,314 INFO: b: y~v0+W3+W1+W4+v0*W2+v0*W0\n",
      "2025-08-21 14:55:10,388 INFO: b: y~v0+W3+W1+W4+v0*W2+v0*W0\n",
      "2025-08-21 14:55:10,462 INFO: b: y~v0+W3+W1+W4+v0*W2+v0*W0\n",
      "2025-08-21 14:55:10,536 INFO: b: y~v0+W3+W1+W4+v0*W2+v0*W0\n",
      "2025-08-21 14:55:10,610 INFO: b: y~v0+W3+W1+W4+v0*W2+v0*W0\n",
      "2025-08-21 14:55:10,685 INFO: b: y~v0+W3+W1+W4+v0*W2+v0*W0\n",
      "2025-08-21 14:55:10,760 INFO: b: y~v0+W3+W1+W4+v0*W2+v0*W0\n",
      "2025-08-21 14:55:10,833 INFO: b: y~v0+W3+W1+W4+v0*W2+v0*W0\n",
      "2025-08-21 14:55:10,908 INFO: b: y~v0+W3+W1+W4+v0*W2+v0*W0\n",
      "2025-08-21 14:55:10,982 INFO: b: y~v0+W3+W1+W4+v0*W2+v0*W0\n",
      "2025-08-21 14:55:11,058 INFO: b: y~v0+W3+W1+W4+v0*W2+v0*W0\n",
      "2025-08-21 14:55:11,133 INFO: b: y~v0+W3+W1+W4+v0*W2+v0*W0\n",
      "2025-08-21 14:55:11,207 INFO: b: y~v0+W3+W1+W4+v0*W2+v0*W0\n",
      "2025-08-21 14:55:11,280 INFO: b: y~v0+W3+W1+W4+v0*W2+v0*W0\n",
      "2025-08-21 14:55:11,354 INFO: b: y~v0+W3+W1+W4+v0*W2+v0*W0\n",
      "2025-08-21 14:55:11,428 INFO: b: y~v0+W3+W1+W4+v0*W2+v0*W0\n",
      "2025-08-21 14:55:11,505 INFO: b: y~v0+W3+W1+W4+v0*W2+v0*W0\n",
      "2025-08-21 14:55:11,580 INFO: b: y~v0+W3+W1+W4+v0*W2+v0*W0\n",
      "2025-08-21 14:55:11,656 INFO: b: y~v0+W3+W1+W4+v0*W2+v0*W0\n",
      "2025-08-21 14:55:11,730 INFO: b: y~v0+W3+W1+W4+v0*W2+v0*W0\n",
      "2025-08-21 14:55:11,805 INFO: b: y~v0+W3+W1+W4+v0*W2+v0*W0\n",
      "2025-08-21 14:55:11,878 INFO: b: y~v0+W3+W1+W4+v0*W2+v0*W0\n",
      "2025-08-21 14:55:11,952 INFO: Making use of Bootstrap as we have more than 100 examples.\n",
      "             Note: The greater the number of examples, the more accurate are the confidence estimates\n"
     ]
    },
    {
     "data": {
      "text/plain": [
       "[<dowhy.causal_refuter.CausalRefutation at 0x160576950>,\n",
       " <dowhy.causal_refuter.CausalRefutation at 0x164af98d0>,\n",
       " <dowhy.causal_refuter.CausalRefutation at 0x16507b450>]"
      ]
     },
     "execution_count": 18,
     "metadata": {},
     "output_type": "execute_result"
    }
   ],
   "source": [
    "causal_module_loaded.refute_estimate()"
   ]
  },
  {
   "cell_type": "markdown",
   "id": "284b6af1",
   "metadata": {},
   "source": [
    "All **RELEVANT** metrics are first stored in the instance itself and can be retrieved like this."
   ]
  },
  {
   "cell_type": "code",
   "execution_count": 19,
   "id": "dd8cc474",
   "metadata": {},
   "outputs": [
    {
     "name": "stderr",
     "output_type": "stream",
     "text": [
      "2025-08-21 14:55:11,959 INFO: ==========================================\n",
      "2025-08-21 14:55:11,959 INFO: Number of nodes: 9\n",
      "2025-08-21 14:55:11,960 INFO: ==========================================\n",
      "2025-08-21 14:55:11,960 INFO: Number of edges: 12\n",
      "2025-08-21 14:55:11,960 INFO: ==========================================\n",
      "2025-08-21 14:55:11,961 INFO: Edge: Z1 -> v0, Weight: 1\n",
      "2025-08-21 14:55:11,961 INFO: Edge: W0 -> Z0, Weight: 1\n",
      "2025-08-21 14:55:11,962 INFO: Edge: W0 -> y, Weight: 1\n",
      "2025-08-21 14:55:11,962 INFO: Edge: W1 -> v0, Weight: 1\n",
      "2025-08-21 14:55:11,963 INFO: Edge: W1 -> y, Weight: 1\n",
      "2025-08-21 14:55:11,963 INFO: Edge: W2 -> y, Weight: 1\n",
      "2025-08-21 14:55:11,964 INFO: Edge: W3 -> v0, Weight: 1\n",
      "2025-08-21 14:55:11,964 INFO: Edge: W3 -> y, Weight: 1\n",
      "2025-08-21 14:55:11,964 INFO: Edge: W4 -> v0, Weight: 1\n",
      "2025-08-21 14:55:11,965 INFO: Edge: W4 -> y, Weight: 1\n",
      "2025-08-21 14:55:11,966 INFO: Edge: v0 -> Z0, Weight: 1\n",
      "2025-08-21 14:55:11,967 INFO: Edge: v0 -> y, Weight: 1\n",
      "2025-08-21 14:55:11,967 INFO: ==========================================\n",
      "2025-08-21 14:55:11,967 INFO: Paths from v0 [treatment] to y [outcome]: 1\n",
      "2025-08-21 14:55:11,968 INFO: v0 -> y\n",
      "2025-08-21 14:55:11,968 INFO: ==========================================\n",
      "2025-08-21 14:55:11,968 INFO: Markov blanket of v0: ['Z0', 'Z1', 'W2', 'W0', 'W4', 'W3', 'W1', 'y']\n",
      "2025-08-21 14:55:11,969 INFO: Markov blanket of y: ['W2', 'W0', 'W3', 'W1', 'v0', 'W4']\n",
      "2025-08-21 14:55:11,972 INFO: Graph properties saved to outputs/results/graph_properties.csv\n",
      "2025-08-21 14:55:11,974 INFO: Graph refutation metrics saved to outputs/results/graph_refutation.csv\n",
      "2025-08-21 14:55:11,974 INFO: ==========================================\n",
      "2025-08-21 14:55:11,974 INFO: Number of nodes: 9\n",
      "2025-08-21 14:55:11,975 INFO: ==========================================\n",
      "2025-08-21 14:55:11,975 INFO: Number of edges: 12\n",
      "2025-08-21 14:55:11,975 INFO: ==========================================\n",
      "2025-08-21 14:55:11,976 INFO: Edge: Z1 -> v0, Weight: 1\n",
      "2025-08-21 14:55:11,976 INFO: Edge: W0 -> Z0, Weight: 1\n",
      "2025-08-21 14:55:11,976 INFO: Edge: W0 -> y, Weight: 1\n",
      "2025-08-21 14:55:11,976 INFO: Edge: W1 -> v0, Weight: 1\n",
      "2025-08-21 14:55:11,977 INFO: Edge: W1 -> y, Weight: 1\n",
      "2025-08-21 14:55:11,977 INFO: Edge: W2 -> y, Weight: 1\n",
      "2025-08-21 14:55:11,977 INFO: Edge: W3 -> v0, Weight: 1\n",
      "2025-08-21 14:55:11,978 INFO: Edge: W3 -> y, Weight: 1\n",
      "2025-08-21 14:55:11,978 INFO: Edge: W4 -> v0, Weight: 1\n",
      "2025-08-21 14:55:11,978 INFO: Edge: W4 -> y, Weight: 1\n",
      "2025-08-21 14:55:11,978 INFO: Edge: v0 -> Z0, Weight: 1\n",
      "2025-08-21 14:55:11,979 INFO: Edge: v0 -> y, Weight: 1\n",
      "2025-08-21 14:55:11,979 INFO: ==========================================\n",
      "2025-08-21 14:55:11,979 INFO: Paths from v0 [treatment] to y [outcome]: 1\n",
      "2025-08-21 14:55:11,979 INFO: v0 -> y\n",
      "2025-08-21 14:55:11,980 INFO: ==========================================\n",
      "2025-08-21 14:55:11,980 INFO: Markov blanket of v0: ['Z0', 'Z1', 'W2', 'W0', 'W4', 'W3', 'W1', 'y']\n",
      "2025-08-21 14:55:11,980 INFO: Markov blanket of y: ['W2', 'W0', 'W3', 'W1', 'v0', 'W4']\n",
      "2025-08-21 14:55:12,011 INFO: Graph Quality Score: [[14  2]\n",
      " [ 4 16]]\n",
      "2025-08-21 14:55:12,011 WARNING: No node quality score to see.\n",
      "2025-08-21 14:55:12,013 INFO: Graph quality score saved to outputs/results/graph_quality_score.csv\n",
      "2025-08-21 14:55:12,015 INFO: Graph quality summary saved to outputs/results/graph_quality_summary.csv\n",
      "2025-08-21 14:55:12,016 INFO: Node quality score saved to outputs/results/node_quality_score.csv\n",
      "2025-08-21 14:55:12,016 INFO: Effect estimate saved to outputs/results/effect_estimate.csv\n",
      "2025-08-21 14:55:12,018 INFO: Estimate refutation metrics saved to outputs/results/estimate_refutation.csv\n",
      "2025-08-21 14:55:12,018 WARNING: No predictions made yet. Please call batch_classify.\n"
     ]
    }
   ],
   "source": [
    "causal_module_loaded.store_results()"
   ]
  },
  {
   "cell_type": "markdown",
   "id": "4b065d23",
   "metadata": {},
   "source": [
    "Note the warnings in the logger in the above output -- these should help navigate missing results. In our case we did not perform classification and so those results are not stored."
   ]
  },
  {
   "cell_type": "code",
   "execution_count": 20,
   "id": "26b65e06",
   "metadata": {},
   "outputs": [
    {
     "data": {
      "text/plain": [
       "dict_keys(['graph_properties', 'graph_refutation', 'node_quality_score', 'graph_quality_score', 'graph_quality_summary', 'effect_estimate', 'estimate_refutation'])"
      ]
     },
     "execution_count": 20,
     "metadata": {},
     "output_type": "execute_result"
    }
   ],
   "source": [
    "causal_module_loaded.results.keys()"
   ]
  },
  {
   "cell_type": "code",
   "execution_count": 21,
   "id": "9e3ec595",
   "metadata": {},
   "outputs": [
    {
     "name": "stdout",
     "output_type": "stream",
     "text": [
      "[[14  2]\n",
      " [ 4 16]]\n"
     ]
    }
   ],
   "source": [
    "print(causal_module_loaded.results['graph_quality_score'])"
   ]
  }
 ],
 "metadata": {
  "kernelspec": {
   "display_name": "iocp",
   "language": "python",
   "name": "python3"
  },
  "language_info": {
   "codemirror_mode": {
    "name": "ipython",
    "version": 3
   },
   "file_extension": ".py",
   "mimetype": "text/x-python",
   "name": "python",
   "nbconvert_exporter": "python",
   "pygments_lexer": "ipython3",
   "version": "3.11.13"
  }
 },
 "nbformat": 4,
 "nbformat_minor": 5
}
